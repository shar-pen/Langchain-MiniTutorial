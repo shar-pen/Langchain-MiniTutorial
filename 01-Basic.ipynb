{
 "cells": [
  {
   "cell_type": "markdown",
   "metadata": {},
   "source": [
    "# 初始化大模型接口并调用\n",
    "\n",
    "一般都是用ChatOpenAI这个类，以下两个方式引用都可以:\n",
    "- from langchain_openai.chat_models import ChatOpenAI\n",
    "- from langchain_openai import ChatOpenAI \n",
    "\n",
    "\n",
    "这是对话的重要参数,关键的是model.\n",
    "Key init args — completion params:\n",
    "\n",
    "- model: str, Name of OpenAI model to use.\n",
    "- temperature: float, Sampling temperature.\n",
    "- max_tokens: Optional[int], Max number of tokens to generate.\n",
    "- logprobs: Optional[bool], Whether to return logprobs.\n",
    "- stream_options: Dict, Configure streaming outputs, like whether to return token usage when streaming (``{\"include_usage\": True}``).\n",
    "\n",
    "这是客户端的重要参数，关键的有base_url和api_key.\n",
    "Key init args — client params:\n",
    "\n",
    "- timeout: Union[float, Tuple[float, float], Any, None], Timeout for requests.\n",
    "- max_retries: int, Max number of retries.\n",
    "- api_key: Optional[str], OpenAI API key. If not passed in will be read from env var OPENAI_API_KEY.\n",
    "- base_url: Optional[str], Base URL for API requests. Only specify if using a proxy or service"
   ]
  },
  {
   "cell_type": "code",
   "execution_count": null,
   "metadata": {},
   "outputs": [],
   "source": [
    "from langchain_openai import ChatOpenAI\n",
    "\n",
    "llm = ChatOpenAI(\n",
    "\tbase_url='http://localhost:5551/v1',\n",
    "\tapi_key='EMPTY',\n",
    "\tmodel_name='Qwen2.5-7B-Instruct',\n",
    "\ttemperature=0.2,\n",
    ")\n"
   ]
  },
  {
   "cell_type": "markdown",
   "metadata": {},
   "source": [
    "使用`invoke`函数来调用大模型接口"
   ]
  },
  {
   "cell_type": "code",
   "execution_count": null,
   "metadata": {},
   "outputs": [],
   "source": [
    "question = \"What is the capital of USA?\"\n",
    "\n",
    "llm.invoke(question)"
   ]
  },
  {
   "cell_type": "markdown",
   "metadata": {},
   "source": [
    "### 响应格式（AIMessage类）\n",
    "\n",
    "在使用 `ChatOpenAI` 对象时，响应以 **AI 消息** 的格式返回。这包括模型生成的文本内容以及与响应相关的元数据或附加属性。这些信息提供了关于 AI 回复的结构化数据，以及响应的生成方式。\n",
    "\n",
    "**AI 消息的关键组成部分**\n",
    "1. **`content`**  \n",
    "   - **定义：** 由 AI 生成的主要响应文本。  \n",
    "   - **示例：** **\"韩国的首都是首尔。\"**  \n",
    "   - **作用：** 这是用户与 AI 交互的主要部分。\n",
    "\n",
    "2. **`response_metadata`**  \n",
    "   - **定义：** 关于响应生成过程的元数据。  \n",
    "   - **主要字段：**  \n",
    "     - **`model_name` ：** 使用的模型名称（例如 `\"gpt-4o-mini\"`）。  \n",
    "     - **`finish_reason` ：** 生成停止的原因（`stop` 表示正常完成）。  \n",
    "     - **`token_usage` ：** 令牌使用详情：\n",
    "       - **`prompt_tokens` ：** 输入查询使用的令牌数。  \n",
    "       - **`completion_tokens` ：** 响应内容使用的令牌数。  \n",
    "       - **`total_tokens` ：** 输入和输出的总令牌数。\n",
    "\n",
    "3. **`id`**  \n",
    "   - **定义：** API 调用的唯一标识符。  \n",
    "   - **作用：** 便于跟踪或调试特定交互。\n"
   ]
  },
  {
   "cell_type": "code",
   "execution_count": null,
   "metadata": {},
   "outputs": [],
   "source": [
    "# 示例\n",
    "\"\"\"\n",
    "AIMessage(\n",
    "    content='The capital of the United States is Washington, D.C.', \n",
    "    additional_kwargs={\n",
    "        'refusal': None\n",
    "    }, \n",
    "    response_metadata={\n",
    "        'token_usage': {\n",
    "            'completion_tokens': 13, \n",
    "            'prompt_tokens': 36, \n",
    "            'total_tokens': 49, \n",
    "            'completion_tokens_details': None, \n",
    "            'prompt_tokens_details': None\n",
    "        }, \n",
    "        'model_name': 'Qwen2.5-7B-Instruct', \n",
    "        'system_fingerprint': None, \n",
    "        'finish_reason': 'stop', \n",
    "        'logprobs': None}, \n",
    "    id='run-e2adb89c-7c83-4a53-b68a-be914308c468-0', \n",
    "    usage_metadata={\n",
    "        'input_tokens': 36, \n",
    "        'output_tokens': 13, \n",
    "        'total_tokens': 49, \n",
    "        'input_token_details': {}, \n",
    "        'output_token_details': {}\n",
    "    }\n",
    ")\n",
    "\"\"\""
   ]
  },
  {
   "cell_type": "markdown",
   "metadata": {},
   "source": [
    "### **流式输出**  \n",
    "\n",
    "流式选项特别适用于接收查询的实时响应。  \n",
    "与等待整个响应生成完成不同，该模型会逐个令牌或按数据块流式传输输出，从而实现更快的交互和即时反馈。"
   ]
  },
  {
   "cell_type": "code",
   "execution_count": null,
   "metadata": {},
   "outputs": [],
   "source": [
    "answer = llm.stream(\n",
    "    \"Please provide 10 beautiful tourist destinations in USA along with their addresses!\"\n",
    ")\n",
    "\n",
    "# 这种流式生成方式本质上是 迭代器 (iterator) 的一种应用。\n",
    "for token in answer:\n",
    "    print(token.content, end=\"\", flush=True)"
   ]
  },
  {
   "cell_type": "markdown",
   "metadata": {},
   "source": [
    "# **链式创建（Chain Creation）**  \n",
    "\n",
    "\n",
    "在这里，我们使用 **LCEL（LangChain Expression Language / LangChain 表达式语言）** 将多个组件组合成一个完整的链。  \n",
    "\n",
    "```\n",
    "chain = prompt | model | output_parser\n",
    "```\n",
    "\n",
    "- **`|` 运算符** 类似于 [Unix 管道操作符](<https://en.wikipedia.org/wiki/Pipeline_(Unix)>)，用于连接不同的组件，并将一个组件的输出作为下一个组件的输入。  \n",
    "\n",
    "在这个链式结构中：\n",
    "1. 用户输入被传递到 **提示模板（PromptTemplate）**。  \n",
    "2. **提示模板** 处理输入并生成结构化的提示。  \n",
    "3. **模型（LLM）** 接收提示并生成响应。  \n",
    "4. **输出解析器（Output Parser）** 进一步解析并格式化最终输出。  \n",
    "\n",
    "通过单独检查每个组件，可以清楚地理解每一步的处理过程。"
   ]
  },
  {
   "cell_type": "markdown",
   "metadata": {},
   "source": [
    "## **Prompt 模板**  \n",
    "\n",
    "`PromptTemplate` 用于通过用户的输入变量创建完整的提示字符串。\n",
    "- **`template`**：模板字符串是一个预定义的格式，其中使用大括号 `{}` 表示变量。  \n",
    "- **`input_variables`**：以列表形式定义要插入到大括号 `{}` 中的变量名称。  "
   ]
  },
  {
   "cell_type": "code",
   "execution_count": null,
   "metadata": {},
   "outputs": [],
   "source": [
    "from langchain_core.prompts import PromptTemplate\n",
    "# Define template\n",
    "template = \"What is the capital of {country}?\"\n",
    "\n",
    "# Create a `PromptTemplate` object using the `from_template` method.\n",
    "prompt_template = PromptTemplate.from_template(template)\n",
    "prompt_template"
   ]
  },
  {
   "cell_type": "code",
   "execution_count": null,
   "metadata": {},
   "outputs": [],
   "source": [
    "prompt_template.format(country=\"Korea\")"
   ]
  },
  {
   "cell_type": "markdown",
   "metadata": {},
   "source": [
    "## **大模型接口**"
   ]
  },
  {
   "cell_type": "code",
   "execution_count": null,
   "metadata": {},
   "outputs": [],
   "source": [
    "from langchain_openai import ChatOpenAI\n",
    "\n",
    "model = ChatOpenAI(\n",
    "\tbase_url='http://localhost:5551/v1',\n",
    "\tapi_key='EMPTY',\n",
    "\tmodel_name='Qwen2.5-7B-Instruct',\n",
    "\ttemperature=0.2,\n",
    ")\n",
    "model"
   ]
  },
  {
   "cell_type": "code",
   "execution_count": null,
   "metadata": {},
   "outputs": [],
   "source": [
    "question = \"What is the capital of USA?\"\n",
    "model.invoke(question)"
   ]
  },
  {
   "cell_type": "markdown",
   "metadata": {},
   "source": [
    "## **输出解析器（Output Parser）**  \n",
    "\n",
    "**输出解析器（Output Parser）** 是一种用于转换或处理 AI 模型响应的工具。由于模型的输出通常是 **自由格式文本（free-form text）**，因此 **输出解析器** 在以下方面至关重要：  \n",
    "- **将输出转换为结构化格式**（如 JSON、表格或特定的数据结构）。  \n",
    "- **提取所需的数据**，过滤无关信息，以便更高效地使用 AI 生成的内容。"
   ]
  },
  {
   "cell_type": "code",
   "execution_count": null,
   "metadata": {},
   "outputs": [],
   "source": [
    "from langchain_core.output_parsers import StrOutputParser\n",
    "\n",
    "# 直接返回str\n",
    "output_parser = (\n",
    "    StrOutputParser()\n",
    ")"
   ]
  },
  {
   "cell_type": "markdown",
   "metadata": {},
   "source": [
    "## 组成chain\n",
    "\n",
    "**调用 `invoke()`**  \n",
    "- 输入值(prompt模板中的变量)以 **Python 字典**（键值对）的形式提供。\n",
    "- 在调用 `invoke()` 函数时，这些输入值作为参数传递。"
   ]
  },
  {
   "cell_type": "code",
   "execution_count": 1,
   "metadata": {},
   "outputs": [],
   "source": [
    "from langchain_openai import ChatOpenAI\n",
    "from langchain_core.prompts import PromptTemplate\n",
    "from langchain_core.output_parsers import StrOutputParser\n",
    "\n",
    "prompt = PromptTemplate.from_template(\"Please explain {topic} in simple terms.\")\n",
    "model = ChatOpenAI(\n",
    "\tbase_url='http://localhost:5551/v1',\n",
    "\tapi_key='EMPTY',\n",
    "\tmodel_name='Qwen2.5-7B-Instruct',\n",
    "\ttemperature=0.2,\n",
    ")\n",
    "output_parser = StrOutputParser()\n",
    "chain = prompt | model | output_parser"
   ]
  },
  {
   "cell_type": "code",
   "execution_count": null,
   "metadata": {},
   "outputs": [],
   "source": [
    "input = {\"topic\": \"The Principles of Learning in Artificial Intelligence Models\"}\n",
    "print(chain.invoke(input))"
   ]
  },
  {
   "cell_type": "code",
   "execution_count": 5,
   "metadata": {},
   "outputs": [
    {
     "name": "stdout",
     "output_type": "stream",
     "text": [
      "Sure! The principles of learning in artificial intelligence (AI) models can be explained in simple terms as follows:\n",
      "\n",
      "### 1. **Data**\n",
      "- **What it is:** Data are the raw materials that AI models use to learn.\n",
      "- **Why it's important:** Good quality data helps the model understand patterns and make accurate predictions.\n",
      "\n",
      "### 2. **Training**\n",
      "- **What it is:** Training is the process where the AI model learns from the data.\n",
      "- **How it works:** The model is shown examples (data) and adjusts its internal parameters to minimize errors in predictions.\n",
      "\n",
      "### 3. **Model**\n",
      "- **What it is:** A model is the mathematical representation of the AI system.\n",
      "- **How it works:** It processes input data and produces output predictions or decisions.\n",
      "\n",
      "### 4. **Parameters**\n",
      "- **What they are:** Parameters are the internal settings or weights of the model that are adjusted during training.\n",
      "- **Why they're important:** These settings determine how the model makes predictions.\n",
      "\n",
      "### 5. **Loss Function**\n",
      "- **What it is:** A loss function measures how wrong the model's predictions are.\n",
      "- **How it works:** The model tries to minimize this function by adjusting its parameters.\n",
      "\n",
      "### 6. **Optimization**\n",
      "- **What it is:** Optimization is the process of finding the best set of parameters to minimize the loss function.\n",
      "- **How it works:** Algorithms like gradient descent are used to iteratively adjust the parameters.\n",
      "\n",
      "### 7. **Validation**\n",
      "- **What it is:** Validation is the process of checking how well the model performs on new, unseen data.\n",
      "- **Why it's important:** It helps ensure the model generalizes well to new data and isn't just memorizing the training data.\n",
      "\n",
      "### 8. **Testing**\n",
      "- **What it is:** Testing is the final step where the model's performance is evaluated on a completely separate set of data.\n",
      "- **Why it's important:** It gives a final assessment of how well the model will perform in real-world scenarios.\n",
      "\n",
      "### 9. **Feedback Loop**\n",
      "- **What it is:** A feedback loop is where the model's predictions are used to improve the training data or the model itself.\n",
      "- **Why it's important:** Continuous improvement can lead to better performance over time.\n",
      "\n",
      "### 10. **Regularization**\n",
      "- **What it is:** Regularization is a technique to prevent overfitting by adding a penalty for complex models.\n",
      "- **Why it's important:** It helps the model generalize better to new data by avoiding overly complex solutions.\n",
      "\n",
      "### 11. **Evaluation Metrics**\n",
      "- **What they are:** Evaluation metrics are specific measures used to assess the performance of the model.\n",
      "- **Examples:** Accuracy, precision, recall, F1 score, etc.\n",
      "- **Why they're important:** They provide a quantitative way to compare different models or evaluate the effectiveness of changes.\n",
      "\n",
      "### 12. **Hyperparameters**\n",
      "- **What they are:** Hyperparameters are settings that control the training process but are not learned from the data.\n",
      "- **Examples:** Learning rate, batch size, number of layers in a neural network.\n",
      "- **Why they're important:** They can significantly affect the model's performance and need to be carefully tuned.\n",
      "\n",
      "These principles form the foundation of how AI models learn and improve over time. By understanding these concepts, you can better appreciate how AI systems are developed and deployed in various applications."
     ]
    }
   ],
   "source": [
    "# 同理，chain也可以流式生成\n",
    "\n",
    "answer = chain.stream(input)\n",
    "\n",
    "for token in answer:\n",
    "    print(token, end=\"\", flush=True)"
   ]
  }
 ],
 "metadata": {
  "kernelspec": {
   "display_name": "xp-nlp",
   "language": "python",
   "name": "python3"
  },
  "language_info": {
   "codemirror_mode": {
    "name": "ipython",
    "version": 3
   },
   "file_extension": ".py",
   "mimetype": "text/x-python",
   "name": "python",
   "nbconvert_exporter": "python",
   "pygments_lexer": "ipython3",
   "version": "3.12.4"
  }
 },
 "nbformat": 4,
 "nbformat_minor": 2
}
