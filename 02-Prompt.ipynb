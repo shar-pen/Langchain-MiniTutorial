{
 "cells": [
  {
   "cell_type": "markdown",
   "metadata": {},
   "source": [
    "# Prompt Template\n",
    "\n",
    "Prompt 模板对于生成动态且灵活的提示至关重要，可用于各种场景，例如会话历史记录、结构化输出和特定查询。  \n",
    "\n",
    "在本教程中，我们将探讨创建 `PromptTemplate` 对象的方法，应用部分变量，通过 YAML 文件管理模板，并利用 `ChatPromptTemplate` 和 `MessagePlaceholder` 等高级工具来增强功能。"
   ]
  },
  {
   "cell_type": "code",
   "execution_count": 1,
   "metadata": {},
   "outputs": [],
   "source": [
    "from langchain_openai import ChatOpenAI\n",
    "\n",
    "llm = ChatOpenAI(\n",
    "\tbase_url='http://localhost:5551/v1',\n",
    "\tapi_key='EMPTY',\n",
    "\tmodel_name='Qwen2.5-7B-Instruct',\n",
    "\ttemperature=0.2,\n",
    ")"
   ]
  },
  {
   "cell_type": "markdown",
   "metadata": {},
   "source": [
    "## 创建 `PromptTemplate` 对象  \n",
    "\n",
    "有两种方法可以创建 `PromptTemplate` 对象：  \n",
    "- **1.** 使用 `from_template()` 方法。  \n",
    "- **2.** 直接创建 `PromptTemplate` 对象并同时生成提示词。"
   ]
  },
  {
   "cell_type": "markdown",
   "metadata": {},
   "source": [
    "### **方法 1. 使用 `from_template()` 方法**  \n",
    "\n",
    "- 使用 `{variable}` 语法定义模板，其中 `variable` 代表可替换的变量。"
   ]
  },
  {
   "cell_type": "code",
   "execution_count": 2,
   "metadata": {},
   "outputs": [
    {
     "data": {
      "text/plain": [
       "PromptTemplate(input_variables=['country'], input_types={}, partial_variables={}, template='What is the capital of {country}?')"
      ]
     },
     "execution_count": 2,
     "metadata": {},
     "output_type": "execute_result"
    }
   ],
   "source": [
    "from langchain_core.prompts import PromptTemplate\n",
    "\n",
    "# {}内部是变量\n",
    "template = \"What is the capital of {country}?\"\n",
    "\n",
    "# 使用`from_template`函数来创建模板\n",
    "prompt = PromptTemplate.from_template(template)\n",
    "prompt"
   ]
  },
  {
   "cell_type": "markdown",
   "metadata": {},
   "source": [
    "```\n",
    "PromptTemplate(input_variables=['country'], input_types={}, partial_variables={}, template='What is the capital of {country}?')\n",
    "```\n",
    "类已经解析出country这个变量，可以通过为变量 `country` 赋值来完成提示词。"
   ]
  },
  {
   "cell_type": "code",
   "execution_count": 3,
   "metadata": {},
   "outputs": [
    {
     "data": {
      "text/plain": [
       "'What is the capital of United States of America?'"
      ]
     },
     "execution_count": 3,
     "metadata": {},
     "output_type": "execute_result"
    }
   ],
   "source": [
    "# 类似str的`format`方法来创建实例\n",
    "prompt.format(country=\"United States of America\")"
   ]
  },
  {
   "cell_type": "markdown",
   "metadata": {},
   "source": [
    "进一步用chain来简化流程"
   ]
  },
  {
   "cell_type": "code",
   "execution_count": 4,
   "metadata": {},
   "outputs": [
    {
     "data": {
      "text/plain": [
       "'The capital of the United States of America is Washington, D.C.'"
      ]
     },
     "execution_count": 4,
     "metadata": {},
     "output_type": "execute_result"
    }
   ],
   "source": [
    "template = \"What is the capital of {country}?\"\n",
    "prompt = PromptTemplate.from_template(template)\n",
    "chain = prompt | llm\n",
    "chain.invoke(\"United States of America\").content"
   ]
  },
  {
   "cell_type": "markdown",
   "metadata": {},
   "source": [
    "### **方法 2. 直接创建 `PromptTemplate` 对象并同时生成提示**  \n",
    "\n",
    "- **明确指定 `input_variables`** 以进行额外的验证。  \n",
    "- 否则，如果 `input_variables` 与模板字符串中的变量不匹配，实例化时可能会引发异常。"
   ]
  },
  {
   "cell_type": "code",
   "execution_count": 2,
   "metadata": {},
   "outputs": [
    {
     "data": {
      "text/plain": [
       "PromptTemplate(input_variables=['country'], input_types={}, partial_variables={}, template='What is the capital of {country}?')"
      ]
     },
     "execution_count": 2,
     "metadata": {},
     "output_type": "execute_result"
    }
   ],
   "source": [
    "from langchain_core.prompts import PromptTemplate\n",
    "# Define template\n",
    "template = \"What is the capital of {country}?\"\n",
    "\n",
    "# Create a prompt template with `PromptTemplate` object\n",
    "prompt = PromptTemplate(\n",
    "    template=template,\n",
    "    input_variables=[\"country\"],\n",
    ")\n",
    "prompt"
   ]
  },
  {
   "cell_type": "markdown",
   "metadata": {},
   "source": [
    "### partial variables\n",
    "\n",
    "可临时固定的可变参数, 是特殊的 `input_variables`, 是对应 `input_variables` 在缺失时的默认值。\n",
    "使用 `partial_variables`，您可以**部分应用函数**。这在需要共享 **通用变量** 时特别有用。  \n",
    "\n",
    "**常见示例：**  \n",
    "- **日期或时间（date or time）** 是典型的应用场景。  \n",
    "\n",
    "例如，假设您希望在提示中指定当前日期：  \n",
    "- **直接硬编码日期** 或 **每次手动传递日期变量** 可能不太灵活。  \n",
    "- **更好的方法** 是使用一个返回当前日期的函数，将其部分应用于提示模板，从而动态填充日期变量，使提示更具适应性。"
   ]
  },
  {
   "cell_type": "code",
   "execution_count": 4,
   "metadata": {},
   "outputs": [
    {
     "data": {
      "text/plain": [
       "PromptTemplate(input_variables=['country1'], input_types={}, partial_variables={'country2': 'United States of America'}, template='What are the capitals of {country1} and {country2}, respectively?')"
      ]
     },
     "execution_count": 4,
     "metadata": {},
     "output_type": "execute_result"
    }
   ],
   "source": [
    "from langchain_core.prompts import PromptTemplate\n",
    "# Define template\n",
    "template = \"What are the capitals of {country1} and {country2}, respectively?\"\n",
    "\n",
    "# Create a prompt template with `PromptTemplate` object\n",
    "prompt = PromptTemplate(\n",
    "    template=template,\n",
    "    input_variables=[\"country1\"],\n",
    "    partial_variables={\n",
    "        \"country2\": \"United States of America\"  # Pass `partial_variables` in dictionary form\n",
    "    },\n",
    ")\n",
    "prompt"
   ]
  },
  {
   "cell_type": "code",
   "execution_count": 7,
   "metadata": {},
   "outputs": [
    {
     "data": {
      "text/plain": [
       "'What are the capitals of South Korea and United States of America, respectively?'"
      ]
     },
     "execution_count": 7,
     "metadata": {},
     "output_type": "execute_result"
    }
   ],
   "source": [
    "prompt.format(country1=\"South Korea\")"
   ]
  },
  {
   "cell_type": "markdown",
   "metadata": {},
   "source": [
    "通过`partial()`函数修改或者增加临时变量, 或者直接修改 PromptTemplate.partial_variables\n",
    "- prompt_partial = prompt.partial(country2=\"India\"), 可创建新实例的同时保留原实例\n",
    "- prompt.partial_variables = {'country2':'china'}, 直接修改原实例"
   ]
  },
  {
   "cell_type": "code",
   "execution_count": 12,
   "metadata": {},
   "outputs": [
    {
     "data": {
      "text/plain": [
       "'What are the capitals of South Korea and India, respectively?'"
      ]
     },
     "execution_count": 12,
     "metadata": {},
     "output_type": "execute_result"
    }
   ],
   "source": [
    "prompt_partial = prompt.partial(country2=\"India\")\n",
    "prompt_partial.format(country1=\"South Korea\")"
   ]
  },
  {
   "cell_type": "code",
   "execution_count": 13,
   "metadata": {},
   "outputs": [
    {
     "data": {
      "text/plain": [
       "'What are the capitals of South Korea and china, respectively?'"
      ]
     },
     "execution_count": 13,
     "metadata": {},
     "output_type": "execute_result"
    }
   ],
   "source": [
    "prompt.partial_variables = {'country2':'china'}\n",
    "prompt.format(country1=\"South Korea\")"
   ]
  },
  {
   "cell_type": "markdown",
   "metadata": {},
   "source": [
    "`partial variables` 可以临时用新值, 不会影响缺失时的默认值"
   ]
  },
  {
   "cell_type": "code",
   "execution_count": 15,
   "metadata": {},
   "outputs": [
    {
     "name": "stdout",
     "output_type": "stream",
     "text": [
      "What are the capitals of South Korea and Canada, respectively?\n",
      "What are the capitals of South Korea and India, respectively?\n"
     ]
    }
   ],
   "source": [
    "print(prompt_partial.format(country1=\"South Korea\", country2=\"Canada\"))\n",
    "print(prompt_partial.format(country1=\"South Korea\"))"
   ]
  },
  {
   "cell_type": "markdown",
   "metadata": {},
   "source": [
    "`partial variables` 可用函数传递, 不需要手动设置新值"
   ]
  },
  {
   "cell_type": "code",
   "execution_count": 16,
   "metadata": {},
   "outputs": [
    {
     "data": {
      "text/plain": [
       "\"Today's date is January 30. Please list 3 celebrities whose birthday is today. Please specify their date of birth.\""
      ]
     },
     "execution_count": 16,
     "metadata": {},
     "output_type": "execute_result"
    }
   ],
   "source": [
    "from datetime import datetime\n",
    "\n",
    "def get_today():\n",
    "    return datetime.now().strftime(\"%B %d\")\n",
    "\n",
    "prompt = PromptTemplate(\n",
    "    template=\"Today's date is {today}. Please list {n} celebrities whose birthday is today. Please specify their date of birth.\",\n",
    "    input_variables=[\"n\"],\n",
    "    partial_variables={\n",
    "        \"today\": get_today  # Pass `partial_variables` in dictionary form\n",
    "    },\n",
    ")\n",
    "\n",
    "prompt.format(n=3)"
   ]
  },
  {
   "cell_type": "markdown",
   "metadata": {},
   "source": [
    "## **从 YAML 文件加载 Prompt 模板**  \n",
    "\n",
    "您可以将 **Prompt 模板** 存储在单独的 **YAML 文件** 中，并使用 `load_prompt` 进行加载和管理。\n",
    "\n",
    "以下是一个yaml示例: \n",
    "\n",
    "---\n",
    "\n",
    "```yaml\n",
    "_type: \"prompt\"\n",
    "template: \"What is the color of {fruit}?\"\n",
    "input_variables: [\"fruit\"]\n",
    "```\n",
    "---"
   ]
  },
  {
   "cell_type": "code",
   "execution_count": null,
   "metadata": {},
   "outputs": [],
   "source": [
    "from langchain_core.prompts import load_prompt\n",
    "\n",
    "prompt = load_prompt(\"prompts/fruit_color.yaml\", encoding=\"utf-8\")\n",
    "prompt"
   ]
  },
  {
   "cell_type": "markdown",
   "metadata": {},
   "source": [
    "## **ChatPromptTemplate**  \n",
    "\n",
    "`ChatPromptTemplate` 可用于将**会话历史记录**包含到提示词中，以提供上下文信息。消息以 **(`role`, `message`)** 元组的形式组织，并存储在 **列表** 中。\n",
    "\n",
    "**角色（role）**:\n",
    "- **`\"system\"`** ：系统设置信息，通常用于全局指令或设定 AI 的行为。  \n",
    "- **`\"human\"`** ：用户输入的消息。  \n",
    "- **`\"ai\"`** ：AI 生成的响应消息。  "
   ]
  },
  {
   "cell_type": "code",
   "execution_count": 17,
   "metadata": {},
   "outputs": [
    {
     "data": {
      "text/plain": [
       "ChatPromptTemplate(input_variables=['country'], input_types={}, partial_variables={}, messages=[HumanMessagePromptTemplate(prompt=PromptTemplate(input_variables=['country'], input_types={}, partial_variables={}, template='What is the capital of {country}?'), additional_kwargs={})])"
      ]
     },
     "execution_count": 17,
     "metadata": {},
     "output_type": "execute_result"
    }
   ],
   "source": [
    "from langchain_core.prompts import ChatPromptTemplate\n",
    "\n",
    "chat_prompt = ChatPromptTemplate.from_template(\"What is the capital of {country}?\")\n",
    "chat_prompt"
   ]
  },
  {
   "cell_type": "markdown",
   "metadata": {},
   "source": [
    "ChatPromptTemplate(input_variables=['country'], input_types={}, partial_variables={}, messages=[HumanMessagePromptTemplate(prompt=PromptTemplate(input_variables=['country'], input_types={}, partial_variables={}, template='What is the capital of {country}?'), additional_kwargs={})])\n",
    "\n",
    "注意这个prompt被 `HumanMessagePromptTemplate`包装了，而且位于一个list中"
   ]
  },
  {
   "cell_type": "code",
   "execution_count": 18,
   "metadata": {},
   "outputs": [
    {
     "data": {
      "text/plain": [
       "'Human: What is the capital of United States of America?'"
      ]
     },
     "execution_count": 18,
     "metadata": {},
     "output_type": "execute_result"
    }
   ],
   "source": [
    "chat_prompt.format(country=\"United States of America\")"
   ]
  },
  {
   "cell_type": "markdown",
   "metadata": {},
   "source": [
    "### 多角色\n",
    "\n",
    "使用 `ChatPromptTemplate.from_messages`来定义模板, 内部是 chat list, 每个 chat 都是以 **(`role`, `message`)** 元组的形式组织"
   ]
  },
  {
   "cell_type": "code",
   "execution_count": 20,
   "metadata": {},
   "outputs": [
    {
     "data": {
      "text/plain": [
       "[SystemMessage(content='You are a friendly AI assistant. Your name is Teddy.', additional_kwargs={}, response_metadata={}),\n",
       " HumanMessage(content='Nice to meet you!', additional_kwargs={}, response_metadata={}),\n",
       " AIMessage(content='Hello! How can I assist you?', additional_kwargs={}, response_metadata={}),\n",
       " HumanMessage(content='What is your name?', additional_kwargs={}, response_metadata={})]"
      ]
     },
     "execution_count": 20,
     "metadata": {},
     "output_type": "execute_result"
    }
   ],
   "source": [
    "from langchain_core.prompts import ChatPromptTemplate\n",
    "\n",
    "chat_template = ChatPromptTemplate.from_messages(\n",
    "    [\n",
    "        # role, message\n",
    "        (\"system\", \"You are a friendly AI assistant. Your name is {name}.\"),\n",
    "        (\"human\", \"Nice to meet you!\"),\n",
    "        (\"ai\", \"Hello! How can I assist you?\"),\n",
    "        (\"human\", \"{user_input}\"),\n",
    "    ]\n",
    ")\n",
    "\n",
    "# Create chat messages\n",
    "messages = chat_template.format_messages(name=\"Teddy\", user_input=\"What is your name?\")\n",
    "messages"
   ]
  },
  {
   "cell_type": "markdown",
   "metadata": {},
   "source": [
    "可直接用上面的 Message list 的形式调用大模型"
   ]
  },
  {
   "cell_type": "code",
   "execution_count": 21,
   "metadata": {},
   "outputs": [
    {
     "data": {
      "text/plain": [
       "\"My name is Teddy. It's nice to meet you! How can I help you today?\""
      ]
     },
     "execution_count": 21,
     "metadata": {},
     "output_type": "execute_result"
    }
   ],
   "source": [
    "from langchain_openai import ChatOpenAI\n",
    "\n",
    "llm = ChatOpenAI(\n",
    "\tbase_url='http://localhost:5551/v1',\n",
    "\tapi_key='EMPTY',\n",
    "\tmodel_name='Qwen2.5-7B-Instruct',\n",
    "\ttemperature=0.2,\n",
    ")\n",
    "llm.invoke(messages).content"
   ]
  },
  {
   "cell_type": "markdown",
   "metadata": {},
   "source": [
    "### **MessagePlaceholder**  \n",
    "\n",
    "`LangChain` 提供了 **`MessagePlaceholder`**，用途包括:\n",
    "- **当不确定使用哪些角色** 作为消息提示模板的一部分时，它可以提供灵活性。  \n",
    "- **在格式化时插入一组消息列表**，适用于动态会话历史记录的场景。"
   ]
  },
  {
   "cell_type": "code",
   "execution_count": 22,
   "metadata": {},
   "outputs": [
    {
     "data": {
      "text/plain": [
       "ChatPromptTemplate(input_variables=['conversation', 'word_count'], input_types={'conversation': list[typing.Annotated[typing.Union[typing.Annotated[langchain_core.messages.ai.AIMessage, Tag(tag='ai')], typing.Annotated[langchain_core.messages.human.HumanMessage, Tag(tag='human')], typing.Annotated[langchain_core.messages.chat.ChatMessage, Tag(tag='chat')], typing.Annotated[langchain_core.messages.system.SystemMessage, Tag(tag='system')], typing.Annotated[langchain_core.messages.function.FunctionMessage, Tag(tag='function')], typing.Annotated[langchain_core.messages.tool.ToolMessage, Tag(tag='tool')], typing.Annotated[langchain_core.messages.ai.AIMessageChunk, Tag(tag='AIMessageChunk')], typing.Annotated[langchain_core.messages.human.HumanMessageChunk, Tag(tag='HumanMessageChunk')], typing.Annotated[langchain_core.messages.chat.ChatMessageChunk, Tag(tag='ChatMessageChunk')], typing.Annotated[langchain_core.messages.system.SystemMessageChunk, Tag(tag='SystemMessageChunk')], typing.Annotated[langchain_core.messages.function.FunctionMessageChunk, Tag(tag='FunctionMessageChunk')], typing.Annotated[langchain_core.messages.tool.ToolMessageChunk, Tag(tag='ToolMessageChunk')]], FieldInfo(annotation=NoneType, required=True, discriminator=Discriminator(discriminator=<function _get_type at 0x7ff1a966cfe0>, custom_error_type=None, custom_error_message=None, custom_error_context=None))]]}, partial_variables={}, messages=[SystemMessagePromptTemplate(prompt=PromptTemplate(input_variables=[], input_types={}, partial_variables={}, template='You are a summarization specialist AI assistant. Your mission is to summarize conversations using key points.'), additional_kwargs={}), MessagesPlaceholder(variable_name='conversation'), HumanMessagePromptTemplate(prompt=PromptTemplate(input_variables=['word_count'], input_types={}, partial_variables={}, template='Summarize the conversation so far in {word_count} words.'), additional_kwargs={})])"
      ]
     },
     "execution_count": 22,
     "metadata": {},
     "output_type": "execute_result"
    }
   ],
   "source": [
    "from langchain_core.output_parsers import StrOutputParser\n",
    "from langchain_core.prompts import ChatPromptTemplate, MessagesPlaceholder\n",
    "\n",
    "chat_prompt = ChatPromptTemplate.from_messages(\n",
    "    [\n",
    "        (\n",
    "            \"system\",\n",
    "            \"You are a summarization specialist AI assistant. Your mission is to summarize conversations using key points.\",\n",
    "        ),\n",
    "        MessagesPlaceholder(variable_name=\"conversation\"),\n",
    "        (\"human\", \"Summarize the conversation so far in {word_count} words.\"),\n",
    "    ]\n",
    ")\n",
    "chat_prompt"
   ]
  },
  {
   "cell_type": "code",
   "execution_count": 23,
   "metadata": {},
   "outputs": [
    {
     "name": "stdout",
     "output_type": "stream",
     "text": [
      "System: You are a summarization specialist AI assistant. Your mission is to summarize conversations using key points.\n",
      "Human: Hello! I’m Teddy. Nice to meet you.\n",
      "AI: Nice to meet you! I look forward to working with you.\n",
      "Human: Summarize the conversation so far in 5 words.\n"
     ]
    }
   ],
   "source": [
    "formatted_chat_prompt = chat_prompt.format(\n",
    "    word_count=5,\n",
    "    conversation=[\n",
    "        (\"human\", \"Hello! I’m Teddy. Nice to meet you.\"),\n",
    "        (\"ai\", \"Nice to meet you! I look forward to working with you.\"),\n",
    "    ],\n",
    ")\n",
    "\n",
    "print(formatted_chat_prompt)"
   ]
  },
  {
   "cell_type": "markdown",
   "metadata": {},
   "source": [
    "## **Few-Shot Prompting**  \n",
    "\n",
    "LangChain 的 **Few-Shot Prompting** 提供了一种强大的框架，通过提供精心挑选的示例，引导语言模型生成高质量的输出。此技术**减少了大量模型微调的需求**，同时确保在各种应用场景中提供**精准且符合上下文**的结果。  \n",
    "\n",
    "- **Few-Shot Prompt 模板**：  \n",
    "  - 通过嵌入示例定义提示的结构和格式，指导模型生成一致的输出。  \n",
    "\n",
    "- **示例选择策略（Example Selection Strategies）**：  \n",
    "  - **动态选择最相关的示例** 以匹配特定查询，增强模型的上下文理解能力，提高响应准确性。  \n",
    "\n",
    "- **Chroma 向量存储（Chroma Vector Store）**：  \n",
    "  - 用于存储和检索基于**语义相似度**的示例，提供**可扩展且高效**的 Prompt 结构构建。"
   ]
  },
  {
   "cell_type": "markdown",
   "metadata": {},
   "source": [
    "### **FewShotPromptTemplate**  \n",
    "\n",
    "**Few-shot prompting** 是一种强大的技术，它通过提供**少量精心设计的示例**，引导语言模型生成**准确且符合上下文**的输出。LangChain 的 **`FewShotPromptTemplate`** 简化了这一过程，使用户能够**构建灵活且可复用的提示**，适用于问答、摘要、文本校正等任务。  \n",
    "\n",
    "**1. 设计 Few-Shot 提示（Designing Few-Shot Prompts）**  \n",
    "- **定义示例**，展示所需的输出结构和风格。  \n",
    "- **确保示例覆盖边界情况**，以增强模型的理解能力和性能。  \n",
    "\n",
    "**2. 动态示例选择（Dynamic Example Selection）**  \n",
    "- **利用语义相似性或向量搜索**，选择最相关的示例，以匹配输入查询。  \n",
    "\n",
    "**3. 集成 Few-Shot 提示（Integrating Few-Shot Prompts）**  \n",
    "- **结合 Prompt 模板与语言模型**，构建强大的链式调用，以生成高质量的响应。  "
   ]
  },
  {
   "cell_type": "code",
   "execution_count": 27,
   "metadata": {},
   "outputs": [
    {
     "name": "stdout",
     "output_type": "stream",
     "text": [
      "The capital of the United States of America is Washington, D.C.\n"
     ]
    }
   ],
   "source": [
    "from langchain_openai import ChatOpenAI\n",
    "\n",
    "llm = ChatOpenAI(\n",
    "\tbase_url='http://localhost:5551/v1',\n",
    "\tapi_key='EMPTY',\n",
    "\tmodel_name='Qwen2.5-7B-Instruct',\n",
    "\ttemperature=0.2,\n",
    ")\n",
    "\n",
    "# User query\n",
    "question = \"What is the capital of United States of America?\"\n",
    "\n",
    "# Query the model\n",
    "response = llm.invoke(question)\n",
    "\n",
    "# Print the response\n",
    "print(response.content)"
   ]
  },
  {
   "cell_type": "markdown",
   "metadata": {},
   "source": [
    "以下是一个 CoT 的示例prompt"
   ]
  },
  {
   "cell_type": "code",
   "execution_count": 28,
   "metadata": {},
   "outputs": [
    {
     "name": "stdout",
     "output_type": "stream",
     "text": [
      "Question:\n",
      "Who lived longer, Steve Jobs or Einstein?\n",
      "Answer:\n",
      "Does this question require additional questions: Yes.\n",
      "Additional Question: At what age did Steve Jobs die?\n",
      "Intermediate Answer: Steve Jobs died at the age of 56.\n",
      "Additional Question: At what age did Einstein die?\n",
      "Intermediate Answer: Einstein died at the age of 76.\n",
      "The final answer is: Einstein\n",
      "\n"
     ]
    }
   ],
   "source": [
    "from langchain_core.prompts import PromptTemplate, FewShotPromptTemplate\n",
    "\n",
    "# Define examples for the few-shot prompt\n",
    "examples = [\n",
    "    {\n",
    "        \"question\": \"Who lived longer, Steve Jobs or Einstein?\",\n",
    "        \"answer\": \"\"\"Does this question require additional questions: Yes.\n",
    "Additional Question: At what age did Steve Jobs die?\n",
    "Intermediate Answer: Steve Jobs died at the age of 56.\n",
    "Additional Question: At what age did Einstein die?\n",
    "Intermediate Answer: Einstein died at the age of 76.\n",
    "The final answer is: Einstein\n",
    "\"\"\",\n",
    "    },\n",
    "    {\n",
    "        \"question\": \"When was the founder of Naver born?\",\n",
    "        \"answer\": \"\"\"Does this question require additional questions: Yes.\n",
    "Additional Question: Who is the founder of Naver?\n",
    "Intermediate Answer: Naver was founded by Lee Hae-jin.\n",
    "Additional Question: When was Lee Hae-jin born?\n",
    "Intermediate Answer: Lee Hae-jin was born on June 22, 1967.\n",
    "The final answer is: June 22, 1967\n",
    "\"\"\",\n",
    "    },\n",
    "    {\n",
    "        \"question\": \"Who was the reigning king when Yulgok Yi's mother was born?\",\n",
    "        \"answer\": \"\"\"Does this question require additional questions: Yes.\n",
    "Additional Question: Who is Yulgok Yi's mother?\n",
    "Intermediate Answer: Yulgok Yi's mother is Shin Saimdang.\n",
    "Additional Question: When was Shin Saimdang born?\n",
    "Intermediate Answer: Shin Saimdang was born in 1504.\n",
    "Additional Question: Who was the king of Joseon in 1504?\n",
    "Intermediate Answer: The king of Joseon in 1504 was Yeonsangun.\n",
    "The final answer is: Yeonsangun\n",
    "\"\"\",\n",
    "    },\n",
    "    {\n",
    "        \"question\": \"Are the directors of Oldboy and Parasite from the same country?\",\n",
    "        \"answer\": \"\"\"Does this question require additional questions: Yes.\n",
    "Additional Question: Who is the director of Oldboy?\n",
    "Intermediate Answer: The director of Oldboy is Park Chan-wook.\n",
    "Additional Question: Which country is Park Chan-wook from?\n",
    "Intermediate Answer: Park Chan-wook is from South Korea.\n",
    "Additional Question: Who is the director of Parasite?\n",
    "Intermediate Answer: The director of Parasite is Bong Joon-ho.\n",
    "Additional Question: Which country is Bong Joon-ho from?\n",
    "Intermediate Answer: Bong Joon-ho is from South Korea.\n",
    "The final answer is: Yes\n",
    "\"\"\",\n",
    "    },\n",
    "]\n",
    "\n",
    "example_prompt = PromptTemplate.from_template(\n",
    "    \"Question:\\n{question}\\nAnswer:\\n{answer}\"\n",
    ")\n",
    "\n",
    "# Print the first formatted example\n",
    "print(example_prompt.format(**examples[0]))"
   ]
  },
  {
   "cell_type": "markdown",
   "metadata": {},
   "source": [
    "以下这个 `FewShotPromptTemplate` 将 examples 以 example_prompt 格式添加到真正 QA 的前面。真正的 QA 按照 suffix 格式展示"
   ]
  },
  {
   "cell_type": "code",
   "execution_count": 29,
   "metadata": {},
   "outputs": [
    {
     "name": "stdout",
     "output_type": "stream",
     "text": [
      "Question:\n",
      "Who lived longer, Steve Jobs or Einstein?\n",
      "Answer:\n",
      "Does this question require additional questions: Yes.\n",
      "Additional Question: At what age did Steve Jobs die?\n",
      "Intermediate Answer: Steve Jobs died at the age of 56.\n",
      "Additional Question: At what age did Einstein die?\n",
      "Intermediate Answer: Einstein died at the age of 76.\n",
      "The final answer is: Einstein\n",
      "\n",
      "\n",
      "Question:\n",
      "When was the founder of Naver born?\n",
      "Answer:\n",
      "Does this question require additional questions: Yes.\n",
      "Additional Question: Who is the founder of Naver?\n",
      "Intermediate Answer: Naver was founded by Lee Hae-jin.\n",
      "Additional Question: When was Lee Hae-jin born?\n",
      "Intermediate Answer: Lee Hae-jin was born on June 22, 1967.\n",
      "The final answer is: June 22, 1967\n",
      "\n",
      "\n",
      "Question:\n",
      "Who was the reigning king when Yulgok Yi's mother was born?\n",
      "Answer:\n",
      "Does this question require additional questions: Yes.\n",
      "Additional Question: Who is Yulgok Yi's mother?\n",
      "Intermediate Answer: Yulgok Yi's mother is Shin Saimdang.\n",
      "Additional Question: When was Shin Saimdang born?\n",
      "Intermediate Answer: Shin Saimdang was born in 1504.\n",
      "Additional Question: Who was the king of Joseon in 1504?\n",
      "Intermediate Answer: The king of Joseon in 1504 was Yeonsangun.\n",
      "The final answer is: Yeonsangun\n",
      "\n",
      "\n",
      "Question:\n",
      "Are the directors of Oldboy and Parasite from the same country?\n",
      "Answer:\n",
      "Does this question require additional questions: Yes.\n",
      "Additional Question: Who is the director of Oldboy?\n",
      "Intermediate Answer: The director of Oldboy is Park Chan-wook.\n",
      "Additional Question: Which country is Park Chan-wook from?\n",
      "Intermediate Answer: Park Chan-wook is from South Korea.\n",
      "Additional Question: Who is the director of Parasite?\n",
      "Intermediate Answer: The director of Parasite is Bong Joon-ho.\n",
      "Additional Question: Which country is Bong Joon-ho from?\n",
      "Intermediate Answer: Bong Joon-ho is from South Korea.\n",
      "The final answer is: Yes\n",
      "\n",
      "\n",
      "Question:\n",
      "How old was Bill Gates when Google was founded?\n",
      "Answer:\n"
     ]
    }
   ],
   "source": [
    "# Initialize the FewShotPromptTemplate\n",
    "few_shot_prompt = FewShotPromptTemplate(\n",
    "    examples=examples,\n",
    "    example_prompt=example_prompt,\n",
    "    suffix=\"Question:\\n{question}\\nAnswer:\",\n",
    "    input_variables=[\"question\"],\n",
    ")\n",
    "\n",
    "# Example question\n",
    "question = \"How old was Bill Gates when Google was founded?\"\n",
    "\n",
    "# Generate the final prompt\n",
    "final_prompt = few_shot_prompt.format(question=question)\n",
    "print(final_prompt)"
   ]
  },
  {
   "cell_type": "code",
   "execution_count": 30,
   "metadata": {},
   "outputs": [
    {
     "name": "stdout",
     "output_type": "stream",
     "text": [
      "Does this question require additional questions: Yes.\n",
      "Additional Question: When was Google founded?\n",
      "Intermediate Answer: Google was founded in 1998.\n",
      "Additional Question: When was Bill Gates born?\n",
      "Intermediate Answer: Bill Gates was born on October 28, 1955.\n",
      "The final answer is: Bill Gates was 43 years old when Google was founded.\n"
     ]
    }
   ],
   "source": [
    "response = llm.invoke(final_prompt)\n",
    "print(response.content)"
   ]
  },
  {
   "cell_type": "markdown",
   "metadata": {},
   "source": [
    "## 特殊 prompt"
   ]
  },
  {
   "cell_type": "markdown",
   "metadata": {},
   "source": [
    "### **RAG 文档分析**  \n",
    "\n",
    "基于检索到的文档上下文**处理并回答问题**，确保**高准确性和高相关性**。"
   ]
  },
  {
   "cell_type": "code",
   "execution_count": 32,
   "metadata": {},
   "outputs": [
    {
     "data": {
      "text/plain": [
       "ChatPromptTemplate(input_variables=['context', 'question'], input_types={}, partial_variables={}, messages=[SystemMessagePromptTemplate(prompt=PromptTemplate(input_variables=[], input_types={}, partial_variables={}, template=\"You are a precise and helpful AI assistant specializing in question-answering tasks based on provided context.\\nYour primary task is to:\\n1. Analyze the provided context thoroughly\\n2. Answer questions using ONLY the information from the context\\n3. Preserve technical terms and proper nouns exactly as they appear\\n4. If the answer cannot be found in the context, respond with: 'The provided context does not contain information to answer this question.'\\n5. Format responses in clear, readable paragraphs with relevant examples when available\\n6. Focus on accuracy and clarity in your responses\\n\"), additional_kwargs={}), HumanMessagePromptTemplate(prompt=PromptTemplate(input_variables=['context', 'question'], input_types={}, partial_variables={}, template='#Question:\\n{question}\\n\\n#Context:\\n{context}\\n\\n#Answer:\\nPlease provide a focused, accurate response that directly addresses the question using only the information from the provided context.'), additional_kwargs={})])"
      ]
     },
     "execution_count": 32,
     "metadata": {},
     "output_type": "execute_result"
    }
   ],
   "source": [
    "from langchain.prompts import ChatPromptTemplate\n",
    "\n",
    "\n",
    "system = \"\"\"You are a precise and helpful AI assistant specializing in question-answering tasks based on provided context.\n",
    "Your primary task is to:\n",
    "1. Analyze the provided context thoroughly\n",
    "2. Answer questions using ONLY the information from the context\n",
    "3. Preserve technical terms and proper nouns exactly as they appear\n",
    "4. If the answer cannot be found in the context, respond with: 'The provided context does not contain information to answer this question.'\n",
    "5. Format responses in clear, readable paragraphs with relevant examples when available\n",
    "6. Focus on accuracy and clarity in your responses\n",
    "\"\"\"\n",
    "\n",
    "human = \"\"\"#Question:\n",
    "{question}\n",
    "\n",
    "#Context:\n",
    "{context}\n",
    "\n",
    "#Answer:\n",
    "Please provide a focused, accurate response that directly addresses the question using only the information from the provided context.\"\"\"\n",
    "\n",
    "prompt = ChatPromptTemplate.from_messages(\n",
    "\t[\n",
    "\t\t(\"system\", system), \n",
    "\t\t(\"human\", human)\n",
    "\t]\n",
    ")\n",
    "\n",
    "prompt"
   ]
  },
  {
   "cell_type": "markdown",
   "metadata": {},
   "source": [
    "### **具有来源归因的 RAG（RAG with Source Attribution）**  \n",
    "\n",
    "增强型 RAG 实现，支持**详细的来源追踪和引用**，以提高**可追溯性和验证可靠性**。"
   ]
  },
  {
   "cell_type": "code",
   "execution_count": null,
   "metadata": {},
   "outputs": [],
   "source": [
    "from langchain.prompts import ChatPromptTemplate\n",
    "\n",
    "\n",
    "system = \"\"\"You are a precise and thorough AI assistant that provides well-documented answers with source attribution.\n",
    "Your responsibilities include:\n",
    "1. Analyzing provided context thoroughly\n",
    "2. Generating accurate answers based solely on the given context\n",
    "3. Including specific source references for each key point\n",
    "4. Preserving technical terminology exactly as presented\n",
    "5. Maintaining clear citation format [source: page/document]\n",
    "6. If information is not found in the context, state: 'The provided context does not contain information to answer this question.'\n",
    "\n",
    "Format your response as:\n",
    "1. Main Answer\n",
    "2. Sources Used (with specific locations)\n",
    "3. Confidence Level (High/Medium/Low)\"\"\"\n",
    "\n",
    "human = \"\"\"#Question:\n",
    "{question}\n",
    "\n",
    "#Context:\n",
    "{context}\n",
    "\n",
    "#Answer:\n",
    "Please provide a detailed response with source citations using only information from the provided context.\"\"\"\n",
    "\n",
    "prompt = ChatPromptTemplate.from_messages(\n",
    "\t[\n",
    "\t\t(\"system\", system), \n",
    "\t\t(\"human\", human)\n",
    "\t]\n",
    ")\n",
    "PROMPT_OWNER = \"eun\"\n",
    "hub.push(f\"{PROMPT_OWNER}/{prompt_title}\", prompt, new_repo_is_public=True)"
   ]
  },
  {
   "cell_type": "markdown",
   "metadata": {},
   "source": [
    "其实在回答要求里加入了源引用的要求"
   ]
  },
  {
   "cell_type": "markdown",
   "metadata": {},
   "source": [
    "### **LLM 响应评估（LLM Response Evaluation）**  \n",
    "\n",
    "基于**多项质量指标**对 LLM 响应进行**全面评估**，并提供**详细的评分方法**。"
   ]
  },
  {
   "cell_type": "code",
   "execution_count": null,
   "metadata": {},
   "outputs": [],
   "source": [
    "from langchain.prompts import PromptTemplate\n",
    "\n",
    "\n",
    "evaluation_prompt = \"\"\"Evaluate the LLM's response based on the following criteria:\n",
    "\n",
    "INPUT:\n",
    "Question: {question}\n",
    "Context: {context}\n",
    "LLM Response: {answer}\n",
    "\n",
    "EVALUATION CRITERIA:\n",
    "1. Accuracy (0-10)\n",
    "- Perfect (10): Completely accurate, perfectly aligned with context\n",
    "- Good (7-9): Minor inaccuracies\n",
    "- Fair (4-6): Some significant inaccuracies\n",
    "- Poor (0-3): Major inaccuracies or misalignment\n",
    "\n",
    "2. Completeness (0-10)\n",
    "- Perfect (10): Comprehensive coverage of all relevant points\n",
    "- Good (7-9): Covers most important points\n",
    "- Fair (4-6): Missing several key points\n",
    "- Poor (0-3): Critically incomplete\n",
    "\n",
    "3. Context Relevance (0-10)\n",
    "- Perfect (10): Optimal use of context\n",
    "- Good (7-9): Good use with minor omissions\n",
    "- Fair (4-6): Partial use of relevant context\n",
    "- Poor (0-3): Poor context utilization\n",
    "\n",
    "4. Clarity (0-10)\n",
    "- Perfect (10): Exceptionally clear and well-structured\n",
    "- Good (7-9): Clear with minor issues\n",
    "- Fair (4-6): Somewhat unclear\n",
    "- Poor (0-3): Confusing or poorly structured\n",
    "\n",
    "SCORING METHOD:\n",
    "1. Calculate individual scores\n",
    "2. Compute weighted average:\n",
    "   - Accuracy: 40%\n",
    "   - Completeness: 25%\n",
    "   - Context Relevance: 25%\n",
    "   - Clarity: 10%\n",
    "3. Normalize to 0-1 scale\n",
    "\n",
    "OUTPUT FORMAT:\n",
    "{\n",
    "    \"individual_scores\": {\n",
    "        \"accuracy\": float,\n",
    "        \"completeness\": float,\n",
    "        \"context_relevance\": float,\n",
    "        \"clarity\": float\n",
    "    },\n",
    "    \"weighted_score\": float,\n",
    "    \"normalized_score\": float,\n",
    "    \"evaluation_notes\": string\n",
    "}\n",
    "\n",
    "Return ONLY the normalized_score as a decimal between 0 and 1.\"\"\"\n",
    "\n",
    "prompt = PromptTemplate.from_template(evaluation_prompt)"
   ]
  }
 ],
 "metadata": {
  "kernelspec": {
   "display_name": "xp-nlp",
   "language": "python",
   "name": "python3"
  },
  "language_info": {
   "codemirror_mode": {
    "name": "ipython",
    "version": 3
   },
   "file_extension": ".py",
   "mimetype": "text/x-python",
   "name": "python",
   "nbconvert_exporter": "python",
   "pygments_lexer": "ipython3",
   "version": "3.12.4"
  }
 },
 "nbformat": 4,
 "nbformat_minor": 2
}
