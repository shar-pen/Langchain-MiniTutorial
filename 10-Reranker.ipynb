{
 "cells": [
  {
   "cell_type": "markdown",
   "metadata": {},
   "source": [
    "# Reranker\n",
    "\n",
    "目的:  \n",
    "- 对检索到的文档进行重排序，优化其排名，优先展示与查询最相关的结果。\n",
    "\n",
    "结构:  \n",
    "- 接受**查询**和**文档**作为单一输入对，进行联合处理。\n",
    "\n",
    "机制:  \n",
    "- **单一输入对**：  \n",
    "  将**查询**和**文档**作为组合输入，直接输出相关性评分。\n",
    "- **自注意力机制**：  \n",
    "  使用自注意力机制联合分析**查询**和**文档**，有效捕捉它们之间的语义关系。\n",
    "\n",
    "优势:  \n",
    "- **更高的准确性**：  \n",
    "  提供更精确的相似度评分。\n",
    "- **深度语境分析**：  \n",
    "  探索**查询**和**文档**之间的语义细微差别。\n",
    "\n",
    "局限性:  \n",
    "- **高计算成本**：  \n",
    "  处理可能会消耗较多时间。\n",
    "- **扩展性问题**：  \n",
    "  未经过优化时，不适用于大规模文档集合。\n",
    "\n",
    "实际应用:  \n",
    "- **双编码器（Bi-Encoder）**通过计算轻量级的相似度分数快速检索候选**文档**。\n",
    "- **交叉编码器（Cross Encoder）**通过深入分析**查询**与检索到的**文档**之间的语义关系，进一步优化这些结果。"
   ]
  },
  {
   "cell_type": "code",
   "execution_count": null,
   "metadata": {},
   "outputs": [],
   "source": [
    "from langchain_community.document_loaders import TextLoader\n",
    "from langchain_community.vectorstores import FAISS\n",
    "from langchain_openai import OpenAIEmbeddings\n",
    "from langchain_text_splitters import RecursiveCharacterTextSplitter\n",
    "\n",
    "# Load documents\n",
    "documents = TextLoader(\"./data/appendix-keywords.txt\").load()\n",
    "\n",
    "# Configure text splitter\n",
    "text_splitter = RecursiveCharacterTextSplitter(chunk_size=500, chunk_overlap=100)\n",
    "\n",
    "# Split documents into chunks\n",
    "texts = text_splitter.split_documents(documents)\n",
    "\n",
    "# # Set up the embedding model\n",
    "embeddings_model = OpenAIEmbeddings(\n",
    "\tmodel=\"bge-m3\",\n",
    "\tbase_url='http://localhost:9997/v1',\n",
    "\tapi_key='cannot be empty',\n",
    "\t# dimensions=1024,\n",
    ")\n",
    "\n",
    "# Create FAISS index from documents and set up retriever\n",
    "retriever = FAISS.from_documents(texts, embeddings_model).as_retriever(\n",
    "    search_kwargs={\"k\": 30}\n",
    ")\n",
    "\n",
    "# Define the query\n",
    "query = \"Can you tell me about Word2Vec?\"\n",
    "\n",
    "# Execute the query and retrieve results\n",
    "docs = retriever.invoke(query)\n",
    "\n",
    "# Display the retrieved documents\n",
    "for i, d in enumerate(docs):\n",
    "\tprint(f\"document {i+1}:\\n\\n\" + d.page_content)\n",
    "\tprint('-' * 100)\n"
   ]
  },
  {
   "cell_type": "markdown",
   "metadata": {},
   "source": [
    "使用 `ContextualCompressionRetriever` 来包装 `base_retriever`。`CrossEncoderReranker` 利用 `HuggingFaceCrossEncoder` 对检索到的结果进行重新排序。\n",
    "\n",
    "之前 `ContextualCompressionRetriever` 只是对文档压缩, 现在起到过滤作用"
   ]
  },
  {
   "cell_type": "code",
   "execution_count": null,
   "metadata": {},
   "outputs": [],
   "source": [
    "from langchain.retrievers import ContextualCompressionRetriever\n",
    "from langchain.retrievers.document_compressors import CrossEncoderReranker\n",
    "from langchain_community.cross_encoders import HuggingFaceCrossEncoder\n",
    "\n",
    "# Initialize the model\n",
    "model = HuggingFaceCrossEncoder(\n",
    "\tmodel_name=\"../DataCollection/officials/bge-reranker-v2-m3\",\n",
    "\tmodel_kwargs = {'device': 'cuda:6'}\n",
    "\t)\n",
    "\n",
    "# Select the top 3 documents\n",
    "compressor = CrossEncoderReranker(model=model, top_n=3)\n",
    "\n",
    "# Initialize the contextual compression retriever\n",
    "compression_retriever = ContextualCompressionRetriever(\n",
    "    base_compressor=compressor, base_retriever=retriever\n",
    ")\n",
    "\n",
    "# Retrieve compressed documents\n",
    "compressed_docs = compression_retriever.invoke(\"Can you tell me about Word2Vec?\")\n",
    "\n",
    "# Display the documents\n",
    "for i, d in enumerate(docs):\n",
    "\tprint(f\"document {i+1}:\\n\\n\" + d.page_content)\n",
    "\tprint('-' * 100)"
   ]
  },
  {
   "cell_type": "markdown",
   "metadata": {},
   "source": [
    "我没有在 langchain 上找到基于 api 的 reranker 类"
   ]
  }
 ],
 "metadata": {
  "kernelspec": {
   "display_name": "xp-nlp",
   "language": "python",
   "name": "python3"
  },
  "language_info": {
   "codemirror_mode": {
    "name": "ipython",
    "version": 3
   },
   "file_extension": ".py",
   "mimetype": "text/x-python",
   "name": "python",
   "nbconvert_exporter": "python",
   "pygments_lexer": "ipython3",
   "version": "3.12.4"
  }
 },
 "nbformat": 4,
 "nbformat_minor": 2
}
