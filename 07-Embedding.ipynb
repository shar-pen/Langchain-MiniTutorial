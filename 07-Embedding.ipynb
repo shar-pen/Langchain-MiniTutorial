{
 "cells": [
  {
   "cell_type": "markdown",
   "metadata": {},
   "source": [
    "# OpenAI Embeddings\n",
    "\n",
    "本教程探讨了在 `LangChain` 框架中使用 `OpenAI 文本嵌入` 模型。\n",
    "\n",
    "展示如何为文本查询和文档生成嵌入，使用 **PCA** 降维，并将其可视化为 2D 图形以便更好地理解。\n",
    "\n",
    "通过分析查询与文档之间的 `余弦相似度`，该教程提供了嵌入如何增强工作流的洞察，包括 **文本分析** 和 **数据可视化**。"
   ]
  },
  {
   "cell_type": "code",
   "execution_count": 1,
   "metadata": {},
   "outputs": [],
   "source": [
    "from langchain_openai import OpenAIEmbeddings\n",
    "\n",
    "# Set desired model\n",
    "openai_embedding = OpenAIEmbeddings(\n",
    "\tmodel=\"bge-m3\",\n",
    "\tbase_url='http://localhost:9997/v1',\n",
    "\tapi_key='cannot be empty',\n",
    "\t# dimensions=1024,\n",
    ")\n",
    "\n",
    "query_vector = openai_embedding.embed_query(\"What is the Open AI's gpt embedding model?\")"
   ]
  },
  {
   "cell_type": "code",
   "execution_count": 2,
   "metadata": {},
   "outputs": [],
   "source": [
    "query = \"How does AI improve healthcare?\"\n",
    "\n",
    "# Various embedding models\n",
    "documents = [\n",
    "    \"AI helps doctors diagnose diseases faster, improving patient outcomes.\",\n",
    "    \"AI can analyze medical images to detect conditions like cancer.\",\n",
    "    \"Machine learning predicts patient outcomes based on health data.\",\n",
    "    \"AI speeds up drug discovery by predicting the effectiveness of compounds.\",\n",
    "    \"AI monitors patients remotely, enabling proactive care for chronic diseases.\",\n",
    "    \"AI automates administrative tasks, saving time for healthcare workers.\",\n",
    "    \"NLP extracts insights from electronic health records for better care.\",\n",
    "    \"AI chatbots help with patient assessments and symptom checking.\",\n",
    "    \"AI improves drug manufacturing, ensuring better quality and efficiency.\",\n",
    "    \"AI optimizes hospital operations and reduces healthcare costs.\"\n",
    "]"
   ]
  },
  {
   "cell_type": "markdown",
   "metadata": {},
   "source": [
    "## embed 文本"
   ]
  },
  {
   "cell_type": "code",
   "execution_count": 3,
   "metadata": {},
   "outputs": [
    {
     "name": "stdout",
     "output_type": "stream",
     "text": [
      "number of documents: 10\n",
      "dimension: 1024\n",
      "query: [-0.008217299357056618, 0.05857884883880615, -0.015418872237205505, 0.02231411822140217, -0.028306419029831886]\n",
      "documents[0]: [-0.04019297659397125, 0.020847423002123833, -0.019935578107833862, -0.03813512995839119, -0.04728339985013008]\n",
      "documents[1]: [0.03994722664356232, 0.029537664726376534, -0.027887631207704544, -0.025838112458586693, -0.05827672779560089]\n"
     ]
    }
   ],
   "source": [
    "query_vector = openai_embedding.embed_query(query)\n",
    "docs_vector = openai_embedding.embed_documents(documents)\n",
    "\n",
    "print(\"number of documents: \" + str(len(docs_vector)))\n",
    "print(\"dimension: \" + str(len(docs_vector[0])))\n",
    "\n",
    "# Part of the sliced ​​vector\n",
    "print(\"query: \" + str(query_vector[:5]))\n",
    "print(\"documents[0]: \" + str(docs_vector[0][:5]))\n",
    "print(\"documents[1]: \" + str(docs_vector[1][:5]))"
   ]
  },
  {
   "cell_type": "markdown",
   "metadata": {},
   "source": [
    "`embed_query` 和 `embed_documents` 没有根本的不同, 前者只是后者的特殊情况\n",
    "\n",
    "```python\n",
    "    def embed_query(self, text: str) -> List[float]:\n",
    "        \"\"\"Call out to OpenAI's embedding endpoint for embedding query text.\n",
    "\n",
    "        Args:\n",
    "            text: The text to embed.\n",
    "\n",
    "        Returns:\n",
    "            Embedding for the text.\n",
    "        \"\"\"\n",
    "        return self.embed_documents([text])[0]\n",
    "```"
   ]
  },
  {
   "cell_type": "markdown",
   "metadata": {},
   "source": [
    "## 相似度计算（余弦相似度）\n",
    "\n",
    "这段代码通过**余弦相似度**计算查询与文档之间的相似度。  \n",
    "找出与查询最相似的**前 3 个文档**和**最不相似的 3 个文档**。"
   ]
  },
  {
   "cell_type": "code",
   "execution_count": 29,
   "metadata": {},
   "outputs": [
    {
     "name": "stdout",
     "output_type": "stream",
     "text": [
      "query:  How does AI improve healthcare?\n",
      "Top 3 most similar document:\n",
      "[1] similarity: 0.641 | AI monitors patients remotely, enabling proactive care for chronic diseases.\n",
      "[2] similarity: 0.596 | AI chatbots help with patient assessments and symptom checking.\n",
      "[3] similarity: 0.592 | AI automates administrative tasks, saving time for healthcare workers.\n",
      "\n",
      "Bottom 3 least similar documents:\n",
      "[1] similarity: 0.432 | Machine learning predicts patient outcomes based on health data.\n",
      "[2] similarity: 0.485 | AI optimizes hospital operations and reduces healthcare costs.\n",
      "[3] similarity: 0.503 | NLP extracts insights from electronic health records for better care.\n"
     ]
    }
   ],
   "source": [
    "from sklearn.metrics.pairwise import cosine_similarity\n",
    "\n",
    "# Calculate Cosine Similarity\n",
    "similarity = cosine_similarity([query_vector], docs_vector)\n",
    "\n",
    "# Sorting by in descending order\n",
    "sorted_idx = similarity.argsort()[0][::-1]\n",
    "\n",
    "# Display top 3 and bottom 3 documents based on similarity\n",
    "print(\"query: \", query)\n",
    "print(\"Top 3 most similar document:\")\n",
    "for i in range(0, 3):\n",
    "    print(\n",
    "        f\"[{i+1}] similarity: {similarity[0][sorted_idx[i]]:.3f} | {documents[sorted_idx[i]]}\"\n",
    "    )\n",
    "\n",
    "print(\"\\nBottom 3 least similar documents:\")\n",
    "for i in range(1, 4):\n",
    "    print(\n",
    "        f\"[{i}] similarity: {similarity[0][sorted_idx[-i]]:.3f} | {documents[sorted_idx[-i]]}\"\n",
    "    )"
   ]
  },
  {
   "cell_type": "markdown",
   "metadata": {},
   "source": [
    "**使用向量点积进行相似度计算**  \n",
    "- 相似度通过向量的**点积**来确定。\n",
    "\n",
    "- **相似度计算公式：**\n",
    "\n",
    "$$ \\text{similarities} = \\mathbf{query} \\cdot \\mathbf{documents}^T $$\n",
    "\n",
    "---\n",
    "\n",
    " 📐 **向量点积的数学意义**\n",
    "\n",
    "**向量点积的定义**\n",
    "\n",
    "两个向量 $\\mathbf{a}$ 和 $\\mathbf{b}$ 的**点积**，在数学上定义为：\n",
    "\n",
    "$$ \\mathbf{a} \\cdot \\mathbf{b} = \\sum_{i=1}^{n} a_i b_i $$\n",
    "\n",
    "---\n",
    "\n",
    "**与余弦相似度的关系**\n",
    "\n",
    "**点积**与**余弦相似度**也有关系，遵循以下性质：\n",
    "\n",
    "$$ \\mathbf{a} \\cdot \\mathbf{b} = \\|\\mathbf{a}\\| \\|\\mathbf{b}\\| \\cos \\theta $$\n",
    "\n",
    "其中：  \n",
    "- $\\|\\mathbf{a}\\|$ 和 $\\|\\mathbf{b}\\|$ 表示向量 $\\mathbf{a}$ 和 $\\mathbf{b}$ 的**模长**（**范数，** 特指欧几里得范数）。  \n",
    "- $\\theta$ 是两向量之间的**夹角**。  \n",
    "- $\\cos \\theta$ 表示两向量之间的**余弦相似度**。\n",
    "\n",
    "---\n",
    "\n",
    "**🔍 向量点积在相似度计算中的解释**\n",
    "\n",
    "当**点积值很大**（即一个较大的正值）时：  \n",
    "- 两个向量的**模长** ($\\|\\mathbf{a}\\|$ 和 $\\|\\mathbf{b}\\|$) 很大。  \n",
    "- 两个向量之间的**夹角** ($\\theta$) 很小（**$\\cos \\theta$ 接近 1**）。\n",
    "\n",
    "这表示两个向量指向**相似的方向**，并且**语义上更为相似**，特别是当它们的模长也较大时。\n",
    "\n",
    "---\n",
    "\n",
    "📏 **向量的模长（范数）计算**\n",
    "\n",
    "**欧几里得范数的定义**\n",
    "\n",
    "对于一个向量 $\\mathbf{a} = [a_1, a_2, \\ldots, a_n]$，其**欧几里得范数** $\\|\\mathbf{a}\\|$ 的计算方式为：\n",
    "\n",
    "$$ \\|\\mathbf{a}\\| = \\sqrt{a_1^2 + a_2^2 + \\cdots + a_n^2} $$\n",
    "\n",
    "这个**模长**表示向量在多维空间中的**长度**或**大小**。\n",
    "\n",
    "---\n",
    "\n",
    "理解这些数学基础有助于确保精确的相似度计算，进而在**语义搜索**、**检索系统**和**推荐引擎**等任务中提高性能。 🚀"
   ]
  },
  {
   "cell_type": "code",
   "execution_count": 16,
   "metadata": {},
   "outputs": [],
   "source": [
    "import numpy as np\n",
    "\n",
    "\n",
    "def search_similar_documents(q, docs, hf_embeddings):\n",
    "    \"\"\"\n",
    "    Search for the most relevant documents based on a query using text embeddings.\n",
    "\n",
    "    Args:\n",
    "        q (str): The query string for which relevant documents are to be found.\n",
    "        docs (list of str): A list of document strings to compare against the query.\n",
    "        hf_embeddings: An embedding model object with `embed_query` and `embed_documents` methods.\n",
    "\n",
    "    Returns:\n",
    "        tuple:\n",
    "            - embedded_query (numpy.ndarray): The embedding vector of the query.\n",
    "            - embedded_documents (numpy.ndarray): The embedding matrix of the documents.\n",
    "    \"\"\"\n",
    "    # Embed the query and documents using the embedding model\n",
    "    embedded_query = hf_embeddings.embed_query(q)\n",
    "    embedded_documents = hf_embeddings.embed_documents(docs)\n",
    "\n",
    "    # Calculate similarity scores using dot product and normalize with the magnitudes\n",
    "    query_norm = np.linalg.norm(embedded_query)\n",
    "    document_norms = np.linalg.norm(embedded_documents, axis=1)\n",
    "\n",
    "    # Calculate cosine similarity: dot product / (query norm * document norm)\n",
    "    similarity_scores = (embedded_query @ embedded_documents.T) / (query_norm * document_norms)\n",
    "\n",
    "    # Sort documents by similarity scores in descending order\n",
    "    sorted_idx = similarity_scores.argsort()[::-1]\n",
    "\n",
    "    # Display the results\n",
    "    print(f\"[Query] {q}\\n\" + \"=\" * 40)\n",
    "    for i, idx in enumerate(sorted_idx):\n",
    "        print(f\"[{i}] {docs[idx]}\")\n",
    "        print()\n",
    "\n",
    "    # Return embeddings for potential further processing or analysis\n",
    "    return embedded_query, embedded_documents\n"
   ]
  },
  {
   "cell_type": "markdown",
   "metadata": {},
   "source": [
    "## 嵌入可视化（PCA）\n",
    "\n",
    "为了可视化的目的，减少嵌入的维度。\n",
    "这段代码使用 **主成分分析（PCA）** 将高维嵌入向量降至 **二维**。\n",
    "生成的 **二维点** 在散点图中显示，每个点都标有对应文档的标签。\n",
    "\n",
    "高维嵌入向量直接进行解读和分析非常具有挑战性。通过将它们降到二维，我们可以：\n",
    "\n",
    "- **可视化探索嵌入之间的关系**（例如，聚类、分组）。\n",
    "- **识别数据中的模式或异常**，这些模式在高维空间中可能不那么显眼。\n",
    "- **提高可解释性**，使数据更加易于人类分析和决策。"
   ]
  },
  {
   "cell_type": "code",
   "execution_count": 31,
   "metadata": {},
   "outputs": [
    {
     "data": {
      "image/png": "[encoded data removed]",
      "text/plain": [
       "<Figure size 640x480 with 1 Axes>"
      ]
     },
     "metadata": {},
     "output_type": "display_data"
    }
   ],
   "source": [
    "import matplotlib.pyplot as plt\n",
    "from sklearn.decomposition import PCA\n",
    "import numpy as np\n",
    "\n",
    "# Combine documents and query for PCA\n",
    "all_vectors = np.vstack([docs_vector, query_vector])  # Stack query vector with docs\n",
    "pca = PCA(n_components=2)\n",
    "reduced_vectors = pca.fit_transform(all_vectors)\n",
    "\n",
    "# Separate reduced vectors for documents and query\n",
    "doc_vectors_2d = reduced_vectors[:-1]  # All but the last point (documents)\n",
    "query_vector_2d = reduced_vectors[-1]  # Last point (query)\n",
    "\n",
    "# Plot the reduced vectors\n",
    "plt.scatter(doc_vectors_2d[:, 0], doc_vectors_2d[:, 1], color=\"blue\", label=\"Documents\")\n",
    "plt.scatter(query_vector_2d[0], query_vector_2d[1], color=\"red\", label=\"Query\", marker=\"x\", s=300,)\n",
    "\n",
    "# Annotate document points\n",
    "for i, doc in enumerate(documents):\n",
    "    plt.text(doc_vectors_2d[i, 0], doc_vectors_2d[i, 1], doc, fontsize=8)\n",
    "\n",
    "# Add plot details\n",
    "plt.title(\"2D Visualization of Embedding Vectors with Query\")\n",
    "plt.xlabel(\"PCA Dimension 1\")\n",
    "plt.ylabel(\"PCA Dimension 2\")\n",
    "plt.legend()\n",
    "plt.show()"
   ]
  },
  {
   "cell_type": "markdown",
   "metadata": {},
   "source": []
  },
  {
   "cell_type": "code",
   "execution_count": 20,
   "metadata": {},
   "outputs": [],
   "source": [
    "from langchain_huggingface.embeddings import HuggingFaceEmbeddings\n",
    "\n",
    "model_name = \"../DataCollection/officials/bge-large-zh-v1.5\"\n",
    "\n",
    "hf_embeddings = HuggingFaceEmbeddings(\n",
    "    model_name=model_name,\n",
    "    model_kwargs={\"device\": 'cuda:1'},  # mps, cuda, cpu\n",
    "    encode_kwargs={\"normalize_embeddings\": True},\n",
    ")"
   ]
  },
  {
   "cell_type": "code",
   "execution_count": 27,
   "metadata": {},
   "outputs": [
    {
     "name": "stdout",
     "output_type": "stream",
     "text": [
      "1024\n",
      "5\n",
      "[1024, 1024, 1024, 1024, 1024]\n"
     ]
    }
   ],
   "source": [
    "vector = hf_embeddings.embed_query(\"Please tell me more about LangChain.\")\n",
    "print(len(vector))\n",
    "\n",
    "vector = hf_embeddings.embed_documents([\n",
    "    \"Hi, nice to meet you.\",\n",
    "    \"LangChain simplifies the process of building applications with large language models.\",\n",
    "    \"The LangChain English tutorial is structured based on LangChain's official documentation, cookbook, and various practical examples to help users utilize LangChain more easily and effectively.\",\n",
    "    \"LangChain simplifies the process of building applications with large-scale language models.\",\n",
    "    \"Retrieval-Augmented Generation (RAG) is an effective technique for improving AI responses.\",\n",
    "])\n",
    "print(len(vector))\n",
    "print([len(item) for item in vector])"
   ]
  },
  {
   "cell_type": "markdown",
   "metadata": {},
   "source": [
    "# CacheBackedEmbeddings\n",
    "\n",
    "嵌入值可以存储或临时缓存，以避免重新计算。\n",
    "\n",
    "缓存嵌入值可以使用 `CacheBackedEmbeddings` 来完成。缓存支持的嵌入器是对嵌入器的包装，它将嵌入存储在一个键值存储中。文本被哈希处理，哈希值作为缓存中的键。"
   ]
  },
  {
   "cell_type": "code",
   "execution_count": 1,
   "metadata": {},
   "outputs": [
    {
     "name": "stdout",
     "output_type": "stream",
     "text": [
      "True\n",
      "True\n"
     ]
    }
   ],
   "source": [
    "import os\n",
    "\n",
    "os.makedirs(\"./cache/\", exist_ok=True)\n",
    "print(os.path.exists(\"./cache/\"))  # Check if the directory exists\n",
    "print(os.access(\"./cache/\", os.W_OK))  # Check if the directory is writable"
   ]
  },
  {
   "cell_type": "markdown",
   "metadata": {},
   "source": [
    "## 使用嵌入与本地文件存储（持久化存储）\n",
    "\n",
    "初始化 `CacheBackedEmbeddings` 的主要支持方法是 `from_bytes_store`。\n",
    "\n",
    "它接受以下参数：\n",
    "\n",
    "- `underlying_embeddings`: 用于生成嵌入的嵌入器。\n",
    "- `document_embedding_cache`: 用于缓存文档嵌入的 `ByteStore` 实现之一。\n",
    "- `namespace`: （可选，默认值为 `\"\"`）命名空间用于文档缓存。这样可以避免与其他缓存发生冲突。例如，可以将其设置为正在使用的嵌入模型的名称。\n",
    "\n",
    "**注意**：设置 `namespace` 参数非常重要，以避免在使用不同的嵌入模型对相同文本进行嵌入时发生冲突。\n",
    "\n",
    "首先，让我们看一个使用本地文件系统存储嵌入，并使用 FAISS 向量存储进行检索的例子。"
   ]
  },
  {
   "cell_type": "code",
   "execution_count": 2,
   "metadata": {},
   "outputs": [],
   "source": [
    "from langchain.storage import LocalFileStore\n",
    "from langchain_openai import OpenAIEmbeddings\n",
    "from langchain.embeddings import CacheBackedEmbeddings\n",
    "from langchain_community.vectorstores.faiss import FAISS\n",
    "\n",
    "# Configure basic embeddings using OpenAI embeddings\n",
    "underlying_embeddings = OpenAIEmbeddings(\n",
    "\tmodel=\"bge-m3\",\n",
    "\tbase_url='http://localhost:9997/v1',\n",
    "\tapi_key='cannot be empty',\n",
    "\t# dimensions=1024,\n",
    ")\n",
    "\n",
    "# Set up a local file storage\n",
    "store = LocalFileStore(\"./cache/\")\n",
    "\n",
    "# Create embeddings with caching support\n",
    "cached_embedder = CacheBackedEmbeddings.from_bytes_store(\n",
    "    underlying_embeddings=underlying_embeddings, \n",
    "    document_embedding_cache=store, \n",
    "    namespace=underlying_embeddings.model, # Create a cache-backed embedder using the base embedding and storage\n",
    ")"
   ]
  },
  {
   "cell_type": "markdown",
   "metadata": {},
   "source": [
    "在 embedding 之前 cache 是空的"
   ]
  },
  {
   "cell_type": "code",
   "execution_count": 3,
   "metadata": {},
   "outputs": [
    {
     "data": {
      "text/plain": [
       "[]"
      ]
     },
     "execution_count": 3,
     "metadata": {},
     "output_type": "execute_result"
    }
   ],
   "source": [
    "list(store.yield_keys())"
   ]
  },
  {
   "cell_type": "markdown",
   "metadata": {},
   "source": [
    "加载文档，将其拆分为多个块，对每个块进行嵌入，并将嵌入加载到向量存储中。"
   ]
  },
  {
   "cell_type": "code",
   "execution_count": 4,
   "metadata": {},
   "outputs": [],
   "source": [
    "from langchain.document_loaders import TextLoader\n",
    "from langchain_text_splitters import CharacterTextSplitter\n",
    "\n",
    "raw_documents = TextLoader(\"./data/appendix-keywords.txt\", encoding=\"utf-8\").load()\n",
    "text_splitter = CharacterTextSplitter(chunk_size=1000, chunk_overlap=0)\n",
    "documents = text_splitter.split_documents(raw_documents)"
   ]
  },
  {
   "cell_type": "markdown",
   "metadata": {},
   "source": [
    "从文档创建 FAISS 数据库。"
   ]
  },
  {
   "cell_type": "code",
   "execution_count": 5,
   "metadata": {},
   "outputs": [
    {
     "name": "stdout",
     "output_type": "stream",
     "text": [
      "CPU times: user 375 ms, sys: 43 ms, total: 418 ms\n",
      "Wall time: 809 ms\n"
     ]
    }
   ],
   "source": [
    "%time db = FAISS.from_documents(documents, cached_embedder)"
   ]
  },
  {
   "cell_type": "markdown",
   "metadata": {},
   "source": [
    "如果我们尝试再次创建向量存储，它会更快，因为无需重新计算任何嵌入。"
   ]
  },
  {
   "cell_type": "code",
   "execution_count": 6,
   "metadata": {},
   "outputs": [
    {
     "name": "stdout",
     "output_type": "stream",
     "text": [
      "CPU times: user 13.7 ms, sys: 1.04 ms, total: 14.7 ms\n",
      "Wall time: 13.8 ms\n"
     ]
    }
   ],
   "source": [
    "%time db2 = FAISS.from_documents(documents, cached_embedder)"
   ]
  },
  {
   "cell_type": "code",
   "execution_count": 7,
   "metadata": {},
   "outputs": [
    {
     "data": {
      "text/plain": [
       "['bge-m34b802135-9b69-54ac-835f-f31f0a8f73cf',\n",
       " 'bge-m34fd4987e-f5b6-52f8-91e2-886802754643',\n",
       " 'bge-m3229c1600-8452-5938-b611-45db25315327',\n",
       " 'bge-m3fed9c955-3b6d-5ce9-b7d2-235f35d18610',\n",
       " 'bge-m39668cb63-4ad2-528c-9bf2-aecbfa54e1cd']"
      ]
     },
     "execution_count": 7,
     "metadata": {},
     "output_type": "execute_result"
    }
   ],
   "source": [
    "list(store.yield_keys())[:5]"
   ]
  },
  {
   "cell_type": "markdown",
   "metadata": {},
   "source": [
    "## 使用 `InMemoryByteStore`（非持久化）\n",
    "\n",
    "要使用不同的 `ByteStore`，只需在创建 `CacheBackedEmbeddings` 时指定所需的 `ByteStore`。\n",
    "\n",
    "以下是使用非持久化的 `InMemoryByteStore` 创建相同缓存嵌入对象的示例。"
   ]
  },
  {
   "cell_type": "code",
   "execution_count": 8,
   "metadata": {},
   "outputs": [],
   "source": [
    "from langchain.embeddings import CacheBackedEmbeddings\n",
    "from langchain.storage import InMemoryByteStore\n",
    "\n",
    "# Create an in-memory byte store\n",
    "store = InMemoryByteStore()\n",
    "\n",
    "underlying_embeddings = OpenAIEmbeddings(\n",
    "\tmodel=\"bge-m3\",\n",
    "\tbase_url='http://localhost:9997/v1',\n",
    "\tapi_key='cannot be empty',\n",
    "\t# dimensions=1024,\n",
    ")\n",
    "\n",
    "cached_embedder = CacheBackedEmbeddings.from_bytes_store(\n",
    "    underlying_embeddings, store, namespace=underlying_embeddings.model\n",
    ")"
   ]
  },
  {
   "cell_type": "code",
   "execution_count": 15,
   "metadata": {},
   "outputs": [
    {
     "name": "stdout",
     "output_type": "stream",
     "text": [
      "CPU times: user 6.92 ms, sys: 905 μs, total: 7.82 ms\n",
      "Wall time: 7.34 ms\n"
     ]
    },
    {
     "data": {
      "text/plain": [
       "['bge-m34b802135-9b69-54ac-835f-f31f0a8f73cf',\n",
       " 'bge-m34fd4987e-f5b6-52f8-91e2-886802754643',\n",
       " 'bge-m3229c1600-8452-5938-b611-45db25315327',\n",
       " 'bge-m3fed9c955-3b6d-5ce9-b7d2-235f35d18610',\n",
       " 'bge-m39668cb63-4ad2-528c-9bf2-aecbfa54e1cd']"
      ]
     },
     "execution_count": 15,
     "metadata": {},
     "output_type": "execute_result"
    }
   ],
   "source": [
    "%time db = FAISS.from_documents(documents, cached_embedder)  \n",
    "list(store.yield_keys())[:5]"
   ]
  }
 ],
 "metadata": {
  "kernelspec": {
   "display_name": "xp-nlp",
   "language": "python",
   "name": "python3"
  },
  "language_info": {
   "codemirror_mode": {
    "name": "ipython",
    "version": 3
   },
   "file_extension": ".py",
   "mimetype": "text/x-python",
   "name": "python",
   "nbconvert_exporter": "python",
   "pygments_lexer": "ipython3",
   "version": "3.12.4"
  }
 },
 "nbformat": 4,
 "nbformat_minor": 2
}
