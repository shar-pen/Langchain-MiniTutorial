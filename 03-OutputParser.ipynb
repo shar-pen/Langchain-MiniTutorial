{
 "cells": [
  {
   "cell_type": "markdown",
   "metadata": {},
   "source": [
    "# PydanticOutputParser\n"
   ]
  },
  {
   "cell_type": "markdown",
   "metadata": {},
   "source": [
    "\n",
    "`PydanticOutputParser` 是一个用于**将语言模型的输出转换为结构化信息**的类。它能够**提供清晰且有组织的格式化信息**，而不仅仅是简单的文本响应。  \n",
    "\n",
    "通过使用此类，您可以**将语言模型的输出转换为特定的数据模型**，使其更易于处理和利用。  \n",
    "\n",
    "---\n",
    "\n",
    "## **主要方法**  \n",
    "\n",
    "`PydanticOutputParser` 主要依赖于**两个核心方法**：  \n",
    "\n",
    "**1. `get_format_instructions()`**  \n",
    "- 提供指令，定义语言模型应输出的数据格式。  \n",
    "- 例如，可以返回一个字符串，其中描述了数据字段及其格式要求。  \n",
    "- 这些指令对于**让语言模型结构化输出**并**符合特定数据模型**至关重要。  \n",
    "\n",
    "**2. `parse()`**  \n",
    "- 接收语言模型的输出（通常是字符串），并将其**解析和转换**为特定的数据结构。  \n",
    "- 使用 **Pydantic** 进行数据验证，将输入字符串与预定义的模式匹配，并转换为符合该模式的数据结构。"
   ]
  },
  {
   "cell_type": "code",
   "execution_count": 3,
   "metadata": {},
   "outputs": [],
   "source": [
    "from langchain_openai import ChatOpenAI\n",
    "\n",
    "llm = ChatOpenAI(\n",
    "\tbase_url='http://localhost:5551/v1',\n",
    "\tapi_key='EMPTY',\n",
    "\tmodel_name='Qwen2.5-7B-Instruct',\n",
    "\ttemperature=0.2,\n",
    ")"
   ]
  },
  {
   "cell_type": "markdown",
   "metadata": {},
   "source": [
    "以下是一个使用 Parser 简化流程的示例"
   ]
  },
  {
   "cell_type": "code",
   "execution_count": 1,
   "metadata": {},
   "outputs": [],
   "source": [
    "email_conversation = \"\"\"\n",
    "From: John (John@bikecorporation.me)\n",
    "To: Kim (Kim@teddyinternational.me)\n",
    "Subject: “ZENESIS” bike distribution cooperation and meeting schedule proposal\n",
    "Dear Mr. Kim,\n",
    "\n",
    "I am John, Senior Executive Director at Bike Corporation. I recently learned about your new bicycle model, \"ZENESIS,\" through your press release. Bike Corporation is a company that leads innovation and quality in the field of bicycle manufacturing and distribution, with long-time experience and expertise in this field.\n",
    "\n",
    "We would like to request a detailed brochure for the ZENESIS model. In particular, we need information on technical specifications, battery performance, and design aspects. This information will help us further refine our proposed distribution strategy and marketing plan.\n",
    "\n",
    "Additionally, to discuss the possibilities for collaboration in more detail, I propose a meeting next Tuesday, January 15th, at 10:00 AM. Would it be possible to meet at your office to have this discussion?\n",
    "\n",
    "Thank you.\n",
    "\n",
    "Best regards,\n",
    "John\n",
    "Senior Executive Director\n",
    "Bike Corporation\n",
    "\"\"\""
   ]
  },
  {
   "cell_type": "code",
   "execution_count": 4,
   "metadata": {},
   "outputs": [
    {
     "name": "stdout",
     "output_type": "stream",
     "text": [
      "### Important Parts of the Email:\n",
      "\n",
      "- **From:** John (John@bikecorporation.me)\n",
      "- **To:** Kim (Kim@teddyinternational.me)\n",
      "- **Subject:** \"ZENESIS\" bike distribution cooperation and meeting schedule proposal\n",
      "\n",
      "- **Key Points:**\n",
      "  - John is the Senior Executive Director at Bike Corporation.\n",
      "  - He learned about the \"ZENESIS\" bicycle model through a press release.\n",
      "  - Bike Corporation is a leading company in bicycle manufacturing and distribution.\n",
      "  - They are requesting a detailed brochure for the ZENESIS model, specifically needing information on technical specifications, battery performance, and design aspects.\n",
      "  - A meeting is proposed for Tuesday, January 15th, at 10:00 AM at Kim's office to discuss collaboration possibilities in more detail.\n",
      "\n",
      "- **Proposed Meeting:**\n",
      "  - Date: Tuesday, January 15th\n",
      "  - Time: 10:00 AM\n",
      "  - Location: Kim's office\n",
      "\n",
      "- **Purpose:**\n",
      "  - To discuss the possibilities for collaboration and further refine the distribution strategy and marketing plan for the ZENESIS model."
     ]
    }
   ],
   "source": [
    "from itertools import chain\n",
    "from langchain_core.prompts import PromptTemplate\n",
    "from langchain_core.messages import AIMessageChunk\n",
    "from langchain_core.output_parsers import StrOutputParser\n",
    "\n",
    "prompt = PromptTemplate.from_template(\n",
    "    \"Please extract the important parts of the following email.\\n\\n{email_conversation}\"\n",
    ")\n",
    "\n",
    "chain = prompt | llm | StrOutputParser()\n",
    "\n",
    "answer = chain.stream({\"email_conversation\": email_conversation})\n",
    "\n",
    "\n",
    "#  A function for real-time output (streaming)\n",
    "def stream_response(response, return_output=False):\n",
    "    \"\"\"\n",
    "    Streams the response from the AI model, processing and printing each chunk.\n",
    "\n",
    "    This function iterates over each item in the 'response' iterable. If an item is an instance of AIMessageChunk, it extracts and prints the content.\n",
    "    If the item is a string, it prints the string directly.\n",
    "    Optionally, the function can return the concatenated string of all response chunks.\n",
    "\n",
    "    Args:\n",
    "    - response (iterable): An iterable of response chunks, which can be AIMessageChunk objects or strings.\n",
    "    - return_output (bool, optional): If True, the function returns the concatenated response string. The default is False.\n",
    "\n",
    "    Returns:\n",
    "    - str: If `return_output` is True, the concatenated response string. Otherwise, nothing is returned.\n",
    "    \"\"\"\n",
    "    answer = \"\"\n",
    "    for token in response:\n",
    "        if isinstance(token, AIMessageChunk):\n",
    "            answer += token.content\n",
    "            print(token.content, end=\"\", flush=True)\n",
    "        elif isinstance(token, str):\n",
    "            answer += token\n",
    "            print(token, end=\"\", flush=True)\n",
    "    if return_output:\n",
    "        return answer\n",
    "\n",
    "\n",
    "output = stream_response(answer, return_output=True)"
   ]
  },
  {
   "cell_type": "markdown",
   "metadata": {},
   "source": [
    "当不使用 output parser(PydanticOutputParser) 时，需要对数据类型和访问方式自定义"
   ]
  },
  {
   "cell_type": "code",
   "execution_count": 5,
   "metadata": {},
   "outputs": [
    {
     "name": "stdout",
     "output_type": "stream",
     "text": [
      "### Important Parts of the Email:\n",
      "\n",
      "- **From:** John (John@bikecorporation.me)\n",
      "- **To:** Kim (Kim@teddyinternational.me)\n",
      "- **Subject:** \"ZENESIS\" bike distribution cooperation and meeting schedule proposal\n",
      "\n",
      "- **Key Points:**\n",
      "  - John is the Senior Executive Director at Bike Corporation.\n",
      "  - He learned about the \"ZENESIS\" bicycle model through a press release.\n",
      "  - Bike Corporation is a leading company in bicycle manufacturing and distribution.\n",
      "  - They are requesting a detailed brochure for the ZENESIS model, specifically needing information on technical specifications, battery performance, and design aspects.\n",
      "  - A meeting is proposed for Tuesday, January 15th, at 10:00 AM at Kim's office to discuss collaboration possibilities in more detail.\n",
      "\n",
      "- **Proposed Meeting:**\n",
      "  - Date: Tuesday, January 15th\n",
      "  - Time: 10:00 AM\n",
      "  - Location: Kim's office\n",
      "\n",
      "- **Follow-Up:**\n",
      "  - John requests a detailed brochure for the ZENESIS model.\n",
      "  - He is interested in discussing potential distribution and marketing strategies.\n"
     ]
    }
   ],
   "source": [
    "answer = chain.invoke({\"email_conversation\": email_conversation})\n",
    "print(answer)"
   ]
  },
  {
   "cell_type": "markdown",
   "metadata": {},
   "source": [
    "## 使用 PydanticOutputParser  \n",
    "当提供类似上述的电子邮件内容时，我们将使用以下以 Pydantic 风格定义的类来解析邮件信息。  \n",
    "\n",
    "作为参考， Field  内的  description  用于指导从文本响应中提取关键信息。LLM 依赖此描述来提取所需信息。因此，确保该描述准确且清晰至关重要。"
   ]
  },
  {
   "cell_type": "code",
   "execution_count": 8,
   "metadata": {},
   "outputs": [],
   "source": [
    "from pydantic import BaseModel, Field\n",
    "from langchain_core.output_parsers import PydanticOutputParser\n",
    "\n",
    "class EmailSummary(BaseModel):\n",
    "    person: str = Field(description=\"The sender of the email\")\n",
    "    email: str = Field(description=\"The email address of the sender\")\n",
    "    subject: str = Field(description=\"The subject of the email\")\n",
    "    summary: str = Field(description=\"A summary of the email content\")\n",
    "    date: str = Field(\n",
    "        description=\"The meeting date and time mentioned in the email content\"\n",
    "    )\n",
    "\n",
    "\n",
    "# Create PydanticOutputParser\n",
    "parser = PydanticOutputParser(pydantic_object=EmailSummary)"
   ]
  },
  {
   "cell_type": "code",
   "execution_count": 9,
   "metadata": {},
   "outputs": [
    {
     "name": "stdout",
     "output_type": "stream",
     "text": [
      "The output should be formatted as a JSON instance that conforms to the JSON schema below.\n",
      "\n",
      "As an example, for the schema {\"properties\": {\"foo\": {\"title\": \"Foo\", \"description\": \"a list of strings\", \"type\": \"array\", \"items\": {\"type\": \"string\"}}}, \"required\": [\"foo\"]}\n",
      "the object {\"foo\": [\"bar\", \"baz\"]} is a well-formatted instance of the schema. The object {\"properties\": {\"foo\": [\"bar\", \"baz\"]}} is not well-formatted.\n",
      "\n",
      "Here is the output schema:\n",
      "```\n",
      "{\"properties\": {\"person\": {\"description\": \"The sender of the email\", \"title\": \"Person\", \"type\": \"string\"}, \"email\": {\"description\": \"The email address of the sender\", \"title\": \"Email\", \"type\": \"string\"}, \"subject\": {\"description\": \"The subject of the email\", \"title\": \"Subject\", \"type\": \"string\"}, \"summary\": {\"description\": \"A summary of the email content\", \"title\": \"Summary\", \"type\": \"string\"}, \"date\": {\"description\": \"The meeting date and time mentioned in the email content\", \"title\": \"Date\", \"type\": \"string\"}}, \"required\": [\"person\", \"email\", \"subject\", \"summary\", \"date\"]}\n",
      "```\n"
     ]
    }
   ],
   "source": [
    "print(parser.get_format_instructions())"
   ]
  },
  {
   "cell_type": "markdown",
   "metadata": {},
   "source": [
    "我们还没有解析，这只是一个解析的说明。注意\n",
    "\n",
    "```\n",
    "{\"properties\": {\"person\": {\"description\": \"The sender of the email\", \"title\": \"Person\", \"type\": \"string\"}, \"email\": {\"description\": \"The email address of the sender\", \"title\": \"Email\", \"type\": \"string\"}, \"subject\": {\"description\": \"The subject of the email\", \"title\": \"Subject\", \"type\": \"string\"}, \"summary\": {\"description\": \"A summary of the email content\", \"title\": \"Summary\", \"type\": \"string\"}, \"date\": {\"description\": \"The meeting date and time mentioned in the email content\", \"title\": \"Date\", \"type\": \"string\"}}, \"required\": [\"person\", \"email\", \"subject\", \"summary\", \"date\"]}\n",
    "```\n",
    "这里交代了 parser.pydantic_object 即 EmailSummary 的参数名、数据类型、说明。\n",
    "\n",
    "接下来可在 prompt 中对输出加上要求"
   ]
  },
  {
   "cell_type": "markdown",
   "metadata": {},
   "source": [
    "定义提示：  \n",
    "\n",
    "1. `question`：接收用户的问题。  \n",
    "2. `email_conversation`：输入电子邮件对话的内容。  \n",
    "3. `format`：指定格式。"
   ]
  },
  {
   "cell_type": "code",
   "execution_count": 10,
   "metadata": {},
   "outputs": [],
   "source": [
    "prompt = PromptTemplate.from_template(\n",
    "    \"\"\"\n",
    "You are a helpful assistant. \n",
    "\n",
    "QUESTION:\n",
    "{question}\n",
    "\n",
    "EMAIL CONVERSATION:\n",
    "{email_conversation}\n",
    "\n",
    "FORMAT:\n",
    "{format}\n",
    "\"\"\"\n",
    ")\n",
    "\n",
    "# Add partial formatting of PydanticOutputParser to format\n",
    "prompt = prompt.partial(format=parser.get_format_instructions())"
   ]
  },
  {
   "cell_type": "code",
   "execution_count": 11,
   "metadata": {},
   "outputs": [
    {
     "name": "stdout",
     "output_type": "stream",
     "text": [
      "```json\n",
      "{\n",
      "  \"person\": \"John\",\n",
      "  \"email\": \"John@bikecorporation.me\",\n",
      "  \"subject\": \"ZENESIS bike distribution cooperation and meeting schedule proposal\",\n",
      "  \"summary\": \"John, representing Bike Corporation, is interested in the ZENESIS bicycle model and requests a detailed brochure with technical specifications, battery performance, and design aspects. He proposes a meeting on January 15th, 2024, at 10:00 AM to discuss the possibilities for collaboration.\",\n",
      "  \"date\": \"January 15th, 2024, at 10:00 AM\"\n",
      "}\n",
      "```"
     ]
    }
   ],
   "source": [
    "chain = prompt | llm\n",
    "\n",
    "response = chain.stream(\n",
    "    {\n",
    "        \"email_conversation\": email_conversation,\n",
    "        \"question\": \"Extract the main content of the email.\",\n",
    "    }\n",
    ")\n",
    "\n",
    "# The result is provided in JSON format.\n",
    "output = stream_response(response, return_output=True)"
   ]
  },
  {
   "cell_type": "markdown",
   "metadata": {},
   "source": [
    "可以看出大模型按照要求输出了一个 json , 之后可用 `parser.parse()` 解析"
   ]
  },
  {
   "cell_type": "code",
   "execution_count": 14,
   "metadata": {},
   "outputs": [
    {
     "data": {
      "text/plain": [
       "EmailSummary(person='John', email='John@bikecorporation.me', subject='ZENESIS bike distribution cooperation and meeting schedule proposal', summary='John, representing Bike Corporation, is interested in the ZENESIS bicycle model and requests a detailed brochure with technical specifications, battery performance, and design aspects. He proposes a meeting on January 15th, 2024, at 10:00 AM to discuss the possibilities for collaboration.', date='January 15th, 2024, at 10:00 AM')"
      ]
     },
     "execution_count": 14,
     "metadata": {},
     "output_type": "execute_result"
    }
   ],
   "source": [
    "structured_output = parser.parse(output)\n",
    "structured_output"
   ]
  },
  {
   "cell_type": "markdown",
   "metadata": {},
   "source": [
    "parser 应该正常接在 chain 的后面"
   ]
  },
  {
   "cell_type": "code",
   "execution_count": 15,
   "metadata": {},
   "outputs": [
    {
     "name": "stdout",
     "output_type": "stream",
     "text": [
      "person='John' email='John@bikecorporation.me' subject='ZENESIS bike distribution cooperation and meeting schedule proposal' summary=\"John, representing Bike Corporation, is interested in the ZENESIS bicycle model and requests a detailed brochure with technical specifications, battery performance, and design aspects. He proposes a meeting on January 15th, 2024, at 10:00 AM at Kim's office to discuss collaboration possibilities.\" date='January 15th, 2024, at 10:00 AM'\n"
     ]
    }
   ],
   "source": [
    "# Reconstruct the entire chain by adding an output parser.\n",
    "chain = prompt | llm | parser\n",
    "# Execute the chain and print the results.\n",
    "response = chain.invoke(\n",
    "    {\n",
    "        \"email_conversation\": email_conversation,\n",
    "        \"question\": \"Extract the main content of the email.\",\n",
    "    }\n",
    ")\n",
    "\n",
    "# The results are output in the form of an EmailSummary object.\n",
    "print(response)"
   ]
  },
  {
   "cell_type": "markdown",
   "metadata": {},
   "source": [
    "## with_structured_output(Pydantic)\n",
    "\n",
    "通过使用 `.with_structured_output(Pydantic)`，您可以添加输出解析器并将输出转换为 Pydantic 对象。但他本身不支持流式生成"
   ]
  },
  {
   "cell_type": "code",
   "execution_count": 17,
   "metadata": {},
   "outputs": [
    {
     "data": {
      "text/plain": [
       "EmailSummary(person='John', email='John@bikecorporation.me', subject='ZENESIS bike distribution cooperation and meeting schedule proposal', summary=\"John, from Bike Corporation, is interested in the ZENESIS bicycle model and would like a detailed brochure with technical specifications, battery performance, and design aspects. He proposes a meeting on January 15th at 10:00 AM at Kim's office to discuss the possibilities for collaboration.\", date='January 15th, 10:00 AM')"
      ]
     },
     "execution_count": 17,
     "metadata": {},
     "output_type": "execute_result"
    }
   ],
   "source": [
    "llm_with_structured = llm.with_structured_output(EmailSummary)\n",
    "answer = llm_with_structured.invoke(email_conversation)\n",
    "answer"
   ]
  },
  {
   "cell_type": "markdown",
   "metadata": {},
   "source": [
    "# CommaSeparatedListOutputParser\n"
   ]
  },
  {
   "cell_type": "markdown",
   "metadata": {},
   "source": [
    "\n",
    "`CommaSeparatedListOutputParser` 是 LangChain 中专门用于生成逗号分隔列表形式的结构化输出的解析器。  \n",
    "\n",
    "它简化了数据提取和呈现的过程，使信息以清晰、简洁的列表格式呈现，特别适用于组织数据点、名称、项目或其他结构化值。通过利用此解析器，用户可以提高数据清晰度，确保格式一致，并改善工作流程效率，尤其是在需要结构化输出的应用场景中。"
   ]
  },
  {
   "cell_type": "code",
   "execution_count": 18,
   "metadata": {},
   "outputs": [
    {
     "name": "stdout",
     "output_type": "stream",
     "text": [
      "Your response should be a list of comma separated values, eg: `foo, bar, baz` or `foo,bar,baz`\n"
     ]
    }
   ],
   "source": [
    "from langchain_core.output_parsers import CommaSeparatedListOutputParser\n",
    "\n",
    "# Initialize the output parser\n",
    "output_parser = CommaSeparatedListOutputParser()\n",
    "\n",
    "# Retrieve format instructions for the output parser\n",
    "format_instructions = output_parser.get_format_instructions()\n",
    "print(format_instructions)"
   ]
  },
  {
   "cell_type": "code",
   "execution_count": 19,
   "metadata": {},
   "outputs": [
    {
     "name": "stdout",
     "output_type": "stream",
     "text": [
      "input_variables=['subject'] input_types={} partial_variables={'format_instructions': 'Your response should be a list of comma separated values, eg: `foo, bar, baz` or `foo,bar,baz`'} template='List five {subject}.\\n{format_instructions}'\n"
     ]
    }
   ],
   "source": [
    "from langchain_core.prompts import PromptTemplate\n",
    "\n",
    "# Define the prompt template\n",
    "prompt = PromptTemplate(\n",
    "    template=\"List five {subject}.\\n{format_instructions}\",\n",
    "    input_variables=[\"subject\"],  # 'subject' will be dynamically replaced\n",
    "    partial_variables={\n",
    "        \"format_instructions\": format_instructions\n",
    "    },  # Use parser's format instructions\n",
    ")\n",
    "print(prompt)"
   ]
  },
  {
   "cell_type": "code",
   "execution_count": 20,
   "metadata": {},
   "outputs": [],
   "source": [
    "from langchain_openai import ChatOpenAI\n",
    "\n",
    "llm = ChatOpenAI(\n",
    "\tbase_url='http://localhost:5551/v1',\n",
    "\tapi_key='EMPTY',\n",
    "\tmodel_name='Qwen2.5-7B-Instruct',\n",
    "\ttemperature=0.2,\n",
    ")"
   ]
  },
  {
   "cell_type": "code",
   "execution_count": 22,
   "metadata": {},
   "outputs": [
    {
     "name": "stdout",
     "output_type": "stream",
     "text": [
      "['Gyeongbokgung Palace', 'N Seoul Tower', 'Bukchon Hanok Village', 'Seoraksan National Park', 'Gwangjang Market']\n"
     ]
    }
   ],
   "source": [
    "chain = prompt | llm | output_parser\n",
    "\n",
    "# Run the chain with a specific subject\n",
    "result = chain.invoke({\"subject\": \"famous landmarks in South Korea\"})\n",
    "print(result)\n"
   ]
  },
  {
   "cell_type": "markdown",
   "metadata": {},
   "source": [
    "### 使用 Python 索引访问数据  \n",
    "\n",
    "由于 `CommaSeparatedListOutputParser` 会自动将输出格式化为 Python 列表，您可以通过索引轻松访问各个元素。"
   ]
  },
  {
   "cell_type": "code",
   "execution_count": null,
   "metadata": {},
   "outputs": [],
   "source": [
    "\n",
    "print(\"First Landmark:\", result[0])\n",
    "print(\"Second Landmark:\", result[1])\n",
    "print(\"Last Landmark:\", result[-1])"
   ]
  },
  {
   "cell_type": "markdown",
   "metadata": {},
   "source": [
    "# StructuredOutputParser\n"
   ]
  },
  {
   "cell_type": "markdown",
   "metadata": {},
   "source": [
    "\n",
    "`StructuredOutputParser` 是一种有价值的工具，可用于将大型语言模型（LLM）的响应格式化为字典结构，使多个字段以键/值对的形式返回。  \n",
    "\n",
    "尽管 Pydantic 和 JSON 解析器提供了强大的功能，`StructuredOutputParser` 在处理较弱的模型（如参数较少的本地模型）时特别有效。对于智能水平低于 GPT 或 Claude 等高级模型的情况，它尤为有用。  \n",
    "\n",
    "通过使用 `StructuredOutputParser`，开发者可以在各种 LLM 应用中保持数据的完整性和一致性，即使是在参数较少的模型上运行时也能确保稳定的输出。"
   ]
  },
  {
   "cell_type": "markdown",
   "metadata": {},
   "source": [
    "### 使用 ResponseSchema 与 StructuredOutputParser  \n",
    "\n",
    "- 使用 `ResponseSchema` 类定义响应模式，以包含用户问题的答案以及所使用的来源（网站）描述。  \n",
    "- 使用 `response_schemas` 初始化 `StructuredOutputParser`，使输出符合定义的响应模式。  \n",
    "\n",
    "**[注意]**  \n",
    "在使用本地模型时，Pydantic 解析器可能经常无法正常工作。在这种情况下，`StructuredOutputParser` 是一个不错的替代方案。"
   ]
  },
  {
   "cell_type": "code",
   "execution_count": 23,
   "metadata": {},
   "outputs": [],
   "source": [
    "from langchain.output_parsers import ResponseSchema, StructuredOutputParser\n",
    "\n",
    "# Response to the user's question\n",
    "response_schemas = [\n",
    "    ResponseSchema(name=\"answer\", description=\"Answer to the user's question\"),\n",
    "    ResponseSchema(\n",
    "        name=\"source\",\n",
    "        description=\"The `source` used to answer the user's question, which should be a `website URL`.\",\n",
    "    ),\n",
    "]\n",
    "# Initialize the structured output parser based on the response schemas\n",
    "output_parser = StructuredOutputParser.from_response_schemas(response_schemas)\n"
   ]
  },
  {
   "cell_type": "code",
   "execution_count": 25,
   "metadata": {},
   "outputs": [],
   "source": [
    "from langchain_core.prompts import PromptTemplate\n",
    "# Parse the format instructions.\n",
    "format_instructions = output_parser.get_format_instructions()\n",
    "prompt = PromptTemplate(\n",
    "    # Set up the template to answer the user's question as best as possible.\n",
    "    template=\"answer the users question as best as possible.\\n{format_instructions}\\n{question}\",\n",
    "    # Use 'question' as the input variable.\n",
    "    input_variables=[\"question\"],\n",
    "    # Use 'format_instructions' as a partial variable.\n",
    "    partial_variables={\"format_instructions\": format_instructions},\n",
    ")"
   ]
  },
  {
   "cell_type": "code",
   "execution_count": 26,
   "metadata": {},
   "outputs": [
    {
     "data": {
      "text/plain": [
       "{'answer': 'The largest desert in the world is the Sahara Desert, which covers parts of North Africa.',\n",
       " 'source': 'https://www.nationalgeographic.org/encyclopedia/sahara-desert/'}"
      ]
     },
     "execution_count": 26,
     "metadata": {},
     "output_type": "execute_result"
    }
   ],
   "source": [
    "from langchain_openai import ChatOpenAI\n",
    "\n",
    "llm = ChatOpenAI(\n",
    "\tbase_url='http://localhost:5551/v1',\n",
    "\tapi_key='EMPTY',\n",
    "\tmodel_name='Qwen2.5-7B-Instruct',\n",
    "\ttemperature=0.2,\n",
    ")\n",
    "\n",
    "chain = prompt | llm | output_parser  # Connect the prompt, model, and output parser\n",
    "\n",
    "# Ask the question, \"What is the largest desert in the world?\"\n",
    "chain.invoke({\"question\": \"What is the largest desert in the world?\"})"
   ]
  },
  {
   "cell_type": "markdown",
   "metadata": {},
   "source": [
    "### **PydanticOutputParser vs. StructuredOutputParser**\n",
    "\n",
    "这两种解析器都是 LangChain 提供的工具，用于格式化和解析 LLM（大语言模型）的输出，但它们的适用场景和实现方式有所不同。以下是它们的主要区别：\n",
    "\n",
    "| **特性**                 | **PydanticOutputParser**                                      | **StructuredOutputParser**                                      |\n",
    "|-------------------------|-------------------------------------------------|--------------------------------------------------|\n",
    "| **数据格式**            | 基于 **Pydantic** 数据模型，返回 Pydantic 对象  | 返回 **字典（dict）** 结构，适用于较简单的数据解析 |\n",
    "| **适用场景**            | 适用于 **强大 LLM（如 GPT-4、Claude）**，保证数据结构一致 | 适用于 **较弱的 LLM（如本地小模型）**，对模型要求较低 |\n",
    "| **解析方式**            | 使用 Pydantic 的数据验证机制，自动解析数据 | 通过自定义 `ResponseSchema` 定义键值对结构 |\n",
    "| **错误容忍度**          | 对格式错误较为严格，格式不符会报错 | 宽松容错，适用于结构化要求较低的场景 |\n",
    "| **是否支持复杂验证**    | ✅ **支持**，可定义字段类型、校验规则 | ❌ **不支持**，只能按键值结构输出 |\n",
    "| **是否适合本地模型**    | ❌ **不太适合**，因本地模型输出不稳定，容易解析失败 | ✅ **适合**，能适应本地小模型的不稳定输出 |\n",
    "\n",
    "注意 PydanticOutputParser 解析为 pydantic.BaseModel 类实例, StructuredOutputParser 为 Dict. \n",
    "\n",
    "### **总结**\n",
    "- **PydanticOutputParser**：适用于复杂结构和数据校验，适合强大 LLM（GPT-4、Claude）。\n",
    "- **StructuredOutputParser**：适用于本地小模型，结构简单但更灵活。"
   ]
  },
  {
   "cell_type": "markdown",
   "metadata": {},
   "source": [
    "# JsonOutputParser\n"
   ]
  },
  {
   "cell_type": "markdown",
   "metadata": {},
   "source": [
    "\n",
    "`JsonOutputParser` 是一个工具，允许用户指定所需的 JSON 模式。它旨在使大型语言模型（LLM）能够查询数据并以符合指定模式的 JSON 格式返回结果。  \n",
    "\n",
    "为了确保 LLM 能够准确高效地处理数据，并生成符合要求的 JSON 格式，模型必须具备足够的计算能力（如智能水平）。例如，`llama-70B` 模型比 `llama-8B` 模型具有更大的计算能力，因此更适合处理复杂数据。  \n",
    "\n",
    "\n",
    "**JSON（JavaScript Object Notation）** 是一种轻量级的数据交换格式，用于存储和组织数据。它在 Web 开发中至关重要，并广泛用于服务器与客户端之间的通信。JSON 基于文本，易读且易于机器解析和生成。  \n",
    "\n",
    "JSON 数据由**键值对（key-value pairs）**组成，其中 \"key\" 是字符串，而 \"value\" 可以是多种数据类型。JSON 主要有两种基本结构：  \n",
    "\n",
    "- **对象（Object）**：由大括号 `{ }` 包围的一组键值对。每个键和值之间用冒号（`:`）分隔，多个键值对之间用逗号（`,`）分隔。  \n",
    "- **数组（Array）**：由方括号 `[ ]` 包围的有序值列表，数组内的值之间用逗号（`,`）分隔。  \n",
    "\n",
    "```json\n",
    "{\n",
    "  \"name\": \"John Doe\",\n",
    "  \"age\": 30,\n",
    "  \"is_student\": false,\n",
    "  \"skills\": [\"Java\", \"Python\", \"JavaScript\"],\n",
    "  \"address\": {\n",
    "    \"street\": \"123 Main St\",\n",
    "    \"city\": \"Anytown\"\n",
    "  }\n",
    "}\n",
    "```"
   ]
  },
  {
   "cell_type": "markdown",
   "metadata": {},
   "source": [
    "## 1. 使用 Pydantic\n",
    "\n",
    "类似 PydanticOutputParser 的创建方式, 还是需要创建 BaseModel, 但解析为 Dict"
   ]
  },
  {
   "cell_type": "code",
   "execution_count": 5,
   "metadata": {},
   "outputs": [
    {
     "name": "stdout",
     "output_type": "stream",
     "text": [
      "{'description': 'Global warming poses severe threats to ecosystems, human health, and economic stability. It leads to rising sea levels, more frequent extreme weather events, and disruptions to agricultural productivity. The consequences are far-reaching, affecting biodiversity, water resources, and global food security.', 'hashtags': '#globalwarming #climatechange #severethreats #ecosystemdisruption'}\n",
      "<class 'dict'>\n"
     ]
    }
   ],
   "source": [
    "from langchain_core.prompts import ChatPromptTemplate\n",
    "from langchain_core.output_parsers import JsonOutputParser\n",
    "from langchain_openai import ChatOpenAI\n",
    "from pydantic import BaseModel, Field\n",
    "\n",
    "llm = ChatOpenAI(\n",
    "\tbase_url='http://localhost:5551/v1',\n",
    "\tapi_key='EMPTY',\n",
    "\tmodel_name='Qwen2.5-7B-Instruct',\n",
    "\ttemperature=0.2,\n",
    ")\n",
    "\n",
    "# Use Pydantic to define the data schema for the output format.\n",
    "class Topic(BaseModel):\n",
    "    description: str = Field(description=\"A concise description of the topic\")\n",
    "    hashtags: str = Field(description=\"Keywords in hashtag format (at least 2)\")\n",
    "\n",
    "# Write your question\n",
    "question = \"Please explain the severity of global warming.\"\n",
    "\n",
    "# Set up the parser and inject the instructions into the prompt template.\n",
    "parser = JsonOutputParser(pydantic_object=Topic)\n",
    "\n",
    "# Set up the prompt template\n",
    "prompt = ChatPromptTemplate.from_messages(\n",
    "    [\n",
    "        (\"system\", \"You are a friendly AI assistant. Answer questions concisely.\"),\n",
    "        (\"user\", \"#Format: {format_instructions}\\n\\n#Question: {question}\"),\n",
    "    ]\n",
    ")\n",
    "\n",
    "prompt = prompt.partial(format_instructions=parser.get_format_instructions())\n",
    "\n",
    "# Combine the prompt, model, and JsonOutputParser into a chain\n",
    "chain = prompt | llm | parser\n",
    "\n",
    "# Run the chain with your question\n",
    "answer = chain.invoke({\"question\": question})\n",
    "\n",
    "print(answer)\n",
    "print(type(answer))"
   ]
  },
  {
   "cell_type": "markdown",
   "metadata": {},
   "source": [
    "## 2. 不使用 Pydantic\n",
    "\n",
    "其实对应的 format instruction 只是简单的说明: 'Return a JSON object.'. 因此你还需要在 prompt 的其他部分加上输出元素的说明."
   ]
  },
  {
   "cell_type": "code",
   "execution_count": 7,
   "metadata": {},
   "outputs": [
    {
     "name": "stdout",
     "output_type": "stream",
     "text": [
      "{'description': \"Global warming refers to the long-term increase in Earth's average surface temperature due to human activities, primarily the emission of greenhouse gases like carbon dioxide and methane. This leads to various environmental impacts such as rising sea levels, more frequent extreme weather events, and loss of biodiversity. Mitigation strategies include reducing carbon emissions, increasing use of renewable energy, and promoting sustainable practices.\", 'hashtags': ['globalwarming', 'climatechange', 'greenhousegases', 'carbonfootprint', 'renewableenergy', 'sustainability', 'environmentalimpact']}\n"
     ]
    }
   ],
   "source": [
    "# Write your question\n",
    "question = \"Please provide information about global warming. Include the explanation in description and the related keywords in `hashtags`.\"\n",
    "\n",
    "# Initialize JsonOutputParser\n",
    "parser = JsonOutputParser()\n",
    "\n",
    "# Set up the prompt template\n",
    "prompt = ChatPromptTemplate.from_messages(\n",
    "    [\n",
    "        (\"system\", \"You are a friendly AI assistant. Answer questions concisely.\"),\n",
    "        (\"user\", \"#Format: {format_instructions}\\n\\n#Question: {question}\"),\n",
    "    ]\n",
    ")\n",
    "\n",
    "# Inject instruction to prompt\n",
    "prompt = prompt.partial(format_instructions=parser.get_format_instructions())\n",
    "\n",
    "# Combine the prompt, model, and JsonOutputParser into a chain\n",
    "chain = prompt | llm | parser\n",
    "\n",
    "# Run the chain with your question\n",
    "response = chain.invoke({\"question\": question})\n",
    "print(response)"
   ]
  },
  {
   "cell_type": "code",
   "execution_count": 8,
   "metadata": {},
   "outputs": [
    {
     "data": {
      "text/plain": [
       "'Return a JSON object.'"
      ]
     },
     "execution_count": 8,
     "metadata": {},
     "output_type": "execute_result"
    }
   ],
   "source": [
    "parser.get_format_instructions()"
   ]
  },
  {
   "cell_type": "markdown",
   "metadata": {},
   "source": [
    "# DatetimeOutputParser\n"
   ]
  },
  {
   "cell_type": "markdown",
   "metadata": {},
   "source": [
    "\n",
    "`DatetimeOutputParser` 是一个输出解析器，用于生成 **`datetime` 对象** 形式的结构化输出。  \n",
    "\n",
    "通过将 LLM 的输出转换为 `datetime` 对象，它可以实现更**系统化和一致性**的日期和时间数据处理，使其在数据处理和分析中非常有用。  \n",
    "\n",
    "如果需要以日期或时间的形式生成输出，LangChain 提供的 `DatetimeOutputParser` 可以简化这一过程。  \n",
    "\n",
    "`DatetimeOutputParser` 的 **`format`（格式）** 可以按照下表中的格式代码进行指定：  \n",
    "\n",
    "| **格式代码** | **描述**                 | **示例**                  |  \n",
    "|-------------|-------------------------|---------------------------|  \n",
    "| `%Y`        | 4 位数年份               | 2024                      |  \n",
    "| `%y`        | 2 位数年份               | 24                        |  \n",
    "| `%m`        | 2 位数月份               | 07                        |  \n",
    "| `%d`        | 2 位数日期               | 04                        |  \n",
    "| `%H`        | 24 小时制小时            | 14                        |  \n",
    "| `%I`        | 12 小时制小时            | 02                        |  \n",
    "| `%p`        | AM 或 PM                 | PM                        |  \n",
    "| `%M`        | 2 位数分钟               | 45                        |  \n",
    "| `%S`        | 2 位数秒                 | 08                        |  \n",
    "| `%f`        | 6 位数微秒               | 000123                    |  \n",
    "| `%z`        | UTC 偏移量               | +0900                     |  \n",
    "| `%Z`        | 时区名称                 | KST                       |  \n",
    "| `%a`        | 缩写星期名               | Thu                       |  \n",
    "| `%A`        | 完整星期名               | Thursday                  |  \n",
    "| `%b`        | 缩写月份名               | Jul                       |  \n",
    "| `%B`        | 完整月份名               | July                      |  \n",
    "| `%c`        | 完整日期和时间           | Thu Jul 4 14:45:08 2024   |  \n",
    "| `%x`        | 完整日期                 | 07/04/24                  |  \n",
    "| `%X`        | 完整时间                 | 14:45:08                  |  "
   ]
  },
  {
   "cell_type": "code",
   "execution_count": 14,
   "metadata": {},
   "outputs": [
    {
     "name": "stdout",
     "output_type": "stream",
     "text": [
      "Write a datetime string that matches the following pattern: '%Y-%m-%d'.\n",
      "\n",
      "Examples: 1947-12-08, 1650-03-11, 177-12-05\n",
      "\n",
      "Return ONLY this string, no other words!\n",
      "-----------------------------------------------\n",
      "\n",
      "input_variables=['question'] input_types={} partial_variables={'format_instructions': \"Write a datetime string that matches the following pattern: '%Y-%m-%d'.\\n\\nExamples: 1947-12-08, 1650-03-11, 177-12-05\\n\\nReturn ONLY this string, no other words!\"} template='Answer the users question:\\n\\n#Format Instructions: \\n{format_instructions}\\n\\n#Question: \\n{question}\\n\\n#Answer:'\n"
     ]
    }
   ],
   "source": [
    "from langchain.output_parsers import DatetimeOutputParser\n",
    "from langchain_core.prompts import PromptTemplate\n",
    "\n",
    "# Initialize the output parser\n",
    "# format 参数是输入数据的格式, 会转换为 Datetime 实例\n",
    "output_parser = DatetimeOutputParser(format=\"%Y-%m-%d\")\n",
    "\n",
    "# Get format instructions\n",
    "format_instructions = output_parser.get_format_instructions()\n",
    "\n",
    "# Create answer template for user questions\n",
    "template = \"\"\"Answer the users question:\\n\\n#Format Instructions: \\n{format_instructions}\\n\\n#Question: \\n{question}\\n\\n#Answer:\"\"\"\n",
    "\n",
    "# Create a prompt from the template\n",
    "prompt = PromptTemplate.from_template(\n",
    "    template,\n",
    "    partial_variables={\n",
    "        \"format_instructions\": format_instructions,\n",
    "    },  # Use parser's format instructions\n",
    ")\n",
    "\n",
    "print(format_instructions)\n",
    "print(\"-----------------------------------------------\\n\")\n",
    "print(prompt)"
   ]
  },
  {
   "cell_type": "code",
   "execution_count": 16,
   "metadata": {},
   "outputs": [
    {
     "name": "stdout",
     "output_type": "stream",
     "text": [
      "1998-09-04 00:00:00\n",
      "<class 'datetime.datetime'>\n"
     ]
    }
   ],
   "source": [
    "from langchain_openai import ChatOpenAI\n",
    "\n",
    "llm = ChatOpenAI(\n",
    "\tbase_url='http://localhost:5551/v1',\n",
    "\tapi_key='EMPTY',\n",
    "\tmodel_name='Qwen2.5-7B-Instruct',\n",
    "\ttemperature=0.2,\n",
    ")\n",
    "\n",
    "chain = prompt | llm | output_parser\n",
    "\n",
    "# Call the chain to get an answer to the question\n",
    "output = chain.invoke({\"question\": \"The year Google was founded\"})\n",
    "\n",
    "print(output)\n",
    "print(type(output))"
   ]
  },
  {
   "cell_type": "markdown",
   "metadata": {},
   "source": [
    "# EnumOutputParser\n"
   ]
  },
  {
   "cell_type": "markdown",
   "metadata": {},
   "source": [
    "\n",
    "`EnumOutputParser` 是一个工具，用于严格将语言模型的输出解析为**预定义的枚举（Enum）值**，确保模型输出始终是枚举值之一，并具有以下特点：  \n",
    "\n",
    "- **枚举解析**：将字符串输出转换为预定义的 `Enum` 值。  \n",
    "- **类型安全**：确保解析结果始终是定义的 `Enum` 值之一。  \n",
    "- **灵活性**：自动处理空格和换行符。\n",
    "\n",
    "**应用场景**  \n",
    "- 当你只希望从一组可能的选项中选择一个有效值时。  \n",
    "- 通过使用明确的 Enum 值，避免拼写错误和不一致的变体。  \n",
    "\n",
    "在下面的示例中，我们定义了一个 `Colors` 枚举，并通过解析输出，使 LLM 只能返回 `red`、`green` 或 `blue` 其中之一。"
   ]
  },
  {
   "cell_type": "code",
   "execution_count": 17,
   "metadata": {},
   "outputs": [
    {
     "name": "stdout",
     "output_type": "stream",
     "text": [
      "Select one of the following options: Red, Green, Blue\n"
     ]
    }
   ],
   "source": [
    "from langchain.output_parsers.enum import EnumOutputParser\n",
    "\n",
    "from enum import Enum\n",
    "\n",
    "class Colors(Enum):\n",
    "    RED = \"Red\"\n",
    "    GREEN = \"Green\"\n",
    "    BLUE = \"Blue\"\n",
    "\n",
    "# Instantiate EnumOutputParser\n",
    "parser = EnumOutputParser(enum=Colors)\n",
    "\n",
    "# You can view the format instructions that the parser expects.\n",
    "print(parser.get_format_instructions())"
   ]
  },
  {
   "cell_type": "code",
   "execution_count": 20,
   "metadata": {},
   "outputs": [
    {
     "name": "stdout",
     "output_type": "stream",
     "text": [
      "Parsed Enum: Colors.BLUE\n",
      "Raw Enum Value: Blue\n"
     ]
    }
   ],
   "source": [
    "from langchain_core.prompts import PromptTemplate\n",
    "from langchain_openai import ChatOpenAI\n",
    "\n",
    "\n",
    "llm = ChatOpenAI(\n",
    "\tbase_url='http://localhost:5551/v1',\n",
    "\tapi_key='EMPTY',\n",
    "\tmodel_name='Qwen2.5-7B-Instruct',\n",
    "\ttemperature=0.2,\n",
    ")\n",
    "\n",
    "# Prompt template: the parser's format instructions are added at the end.\n",
    "prompt = (\n",
    "    PromptTemplate.from_template(\n",
    "        \"\"\"Which color is this object?\n",
    "\n",
    "Object: {object}\n",
    "\n",
    "Instructions: {instructions}\"\"\"\n",
    "    ).partial(instructions=parser.get_format_instructions())\n",
    ")\n",
    "\n",
    "# Entire chain: (prompt) -> (LLM) -> (Enum Parser)\n",
    "chain = prompt | llm | parser\n",
    "\n",
    "response = chain.invoke({\"object\": \"sky\"})\n",
    "print(\"Parsed Enum:\", response)\n",
    "print(\"Raw Enum Value:\", response.value)"
   ]
  },
  {
   "cell_type": "markdown",
   "metadata": {},
   "source": [
    "如果模型输出的不是 Enum 值，解析会报错"
   ]
  },
  {
   "cell_type": "markdown",
   "metadata": {},
   "source": [
    "# OutputFixingParser\n"
   ]
  },
  {
   "cell_type": "markdown",
   "metadata": {},
   "source": [
    "\n",
    "`OutputFixingParser` 是 LangChain 提供的一个自动化机制，用于**修正解析过程中可能出现的错误**。该解析器可以包装其他解析器（如 `PydanticOutputParser`），当底层解析器遇到**格式错误或不符合预期格式**的输出时，它会**自动介入**，并利用额外的 LLM 调用来修正错误，确保输出符合正确的格式。  \n",
    "\n",
    "`OutputFixingParser` 主要用于处理**初始输出不符合预定义模式**的情况。如果出现问题，解析器会**自动检测格式错误**，并向模型提交新的请求，包含**具体的错误修正指令**。这些指令明确指出问题所在，并提供清晰的修正指导，以确保数据格式符合预期要求。  \n",
    "\n",
    "这一功能在**严格遵循数据模式的应用场景**中非常有用。例如，在使用 `PydanticOutputParser` 生成符合特定数据模式的输出时，可能会遇到**缺失字段或数据类型错误**的问题。  \n",
    "\n",
    "**`OutputFixingParser` 的工作流程**\n",
    "1. **错误检测**：识别输出不符合预定义的数据模式。  \n",
    "2. **错误修正**：向 LLM 生成新的请求，并提供明确的修正指令。  \n",
    "3. **重新格式化输出**：确保修正指令**精准定位错误**（如缺少字段、数据类型错误等），并指导 LLM 重新格式化输出，使其符合预期数据模式。  \n"
   ]
  },
  {
   "cell_type": "markdown",
   "metadata": {},
   "source": [
    "\n",
    "\n",
    "假设你正在使用 `PydanticOutputParser` 来强制执行一个模式，该模式要求输出包含以下字段：\n",
    "- `name`（字符串）\n",
    "- `age`（整数）\n",
    "- `email`（字符串）\n",
    "\n",
    "如果 LLM 生成的输出中：\n",
    "- **缺少 `age` 字段**\n",
    "- **`email` 不是有效的字符串格式**\n",
    "\n",
    "那么 `OutputFixingParser` 会自动介入，并向 LLM 发送新的请求，例如：\n",
    "- `\"输出缺少 `age` 字段，请添加一个适当的整数值。\" `\n",
    "- `\"`email` 字段的格式无效，请修正为有效的电子邮件地址格式。\"`  \n",
    "\n",
    "这一**迭代式纠正过程**确保最终输出符合指定的数据模式，无需人工干预。  \n"
   ]
  },
  {
   "cell_type": "code",
   "execution_count": 3,
   "metadata": {},
   "outputs": [],
   "source": [
    "from langchain_core.output_parsers import PydanticOutputParser\n",
    "from pydantic import BaseModel, Field\n",
    "from typing import List\n",
    "\n",
    "\n",
    "# Define the Actor class using Pydantic\n",
    "class Actor(BaseModel):\n",
    "    name: str = Field(description=\"name of an actor\")\n",
    "    film_names: List[str] = Field(description=\"list of names of films they starred in\")\n",
    "\n",
    "\n",
    "# A query to generate the filmography for a random actor\n",
    "actor_query = \"Generate the filmography for a random actor.\"\n",
    "\n",
    "# Use PydanticOutputParser to parse the output into an Actor object\n",
    "parser = PydanticOutputParser(pydantic_object=Actor)"
   ]
  },
  {
   "cell_type": "markdown",
   "metadata": {},
   "source": [
    "### 尝试解析格式错误的输入数据\n",
    "\n",
    "- **格式错误的变量**包含一个格式不正确的字符串，该字符串与预期的结构不匹配（例如使用了单引号 `'` 而不是双引号 `\"`）。\n",
    "- 调用 `parser.parse()` 时，由于格式不匹配，系统会抛出错误。"
   ]
  },
  {
   "cell_type": "code",
   "execution_count": 34,
   "metadata": {},
   "outputs": [
    {
     "ename": "OutputParserException",
     "evalue": "Invalid json output: {'name': 'Tom Hanks', 'film_names': ['Forrest Gump']}\nFor troubleshooting, visit: https://python.langchain.com/docs/troubleshooting/errors/OUTPUT_PARSING_FAILURE ",
     "output_type": "error",
     "traceback": [
      "\u001b[0;31m---------------------------------------------------------------------------\u001b[0m",
      "\u001b[0;31mJSONDecodeError\u001b[0m                           Traceback (most recent call last)",
      "File \u001b[0;32m/data02/hyzhang10/miniconda3/envs/xp-nlp/lib/python3.12/site-packages/langchain_core/output_parsers/json.py:83\u001b[0m, in \u001b[0;36mJsonOutputParser.parse_result\u001b[0;34m(self, result, partial)\u001b[0m\n\u001b[1;32m     82\u001b[0m \u001b[38;5;28;01mtry\u001b[39;00m:\n\u001b[0;32m---> 83\u001b[0m     \u001b[38;5;28;01mreturn\u001b[39;00m \u001b[43mparse_json_markdown\u001b[49m\u001b[43m(\u001b[49m\u001b[43mtext\u001b[49m\u001b[43m)\u001b[49m\n\u001b[1;32m     84\u001b[0m \u001b[38;5;28;01mexcept\u001b[39;00m JSONDecodeError \u001b[38;5;28;01mas\u001b[39;00m e:\n",
      "File \u001b[0;32m/data02/hyzhang10/miniconda3/envs/xp-nlp/lib/python3.12/site-packages/langchain_core/utils/json.py:144\u001b[0m, in \u001b[0;36mparse_json_markdown\u001b[0;34m(json_string, parser)\u001b[0m\n\u001b[1;32m    143\u001b[0m     json_str \u001b[38;5;241m=\u001b[39m json_string \u001b[38;5;28;01mif\u001b[39;00m match \u001b[38;5;129;01mis\u001b[39;00m \u001b[38;5;28;01mNone\u001b[39;00m \u001b[38;5;28;01melse\u001b[39;00m match\u001b[38;5;241m.\u001b[39mgroup(\u001b[38;5;241m2\u001b[39m)\n\u001b[0;32m--> 144\u001b[0m \u001b[38;5;28;01mreturn\u001b[39;00m \u001b[43m_parse_json\u001b[49m\u001b[43m(\u001b[49m\u001b[43mjson_str\u001b[49m\u001b[43m,\u001b[49m\u001b[43m \u001b[49m\u001b[43mparser\u001b[49m\u001b[38;5;241;43m=\u001b[39;49m\u001b[43mparser\u001b[49m\u001b[43m)\u001b[49m\n",
      "File \u001b[0;32m/data02/hyzhang10/miniconda3/envs/xp-nlp/lib/python3.12/site-packages/langchain_core/utils/json.py:160\u001b[0m, in \u001b[0;36m_parse_json\u001b[0;34m(json_str, parser)\u001b[0m\n\u001b[1;32m    159\u001b[0m \u001b[38;5;66;03m# Parse the JSON string into a Python dictionary\u001b[39;00m\n\u001b[0;32m--> 160\u001b[0m \u001b[38;5;28;01mreturn\u001b[39;00m \u001b[43mparser\u001b[49m\u001b[43m(\u001b[49m\u001b[43mjson_str\u001b[49m\u001b[43m)\u001b[49m\n",
      "File \u001b[0;32m/data02/hyzhang10/miniconda3/envs/xp-nlp/lib/python3.12/site-packages/langchain_core/utils/json.py:118\u001b[0m, in \u001b[0;36mparse_partial_json\u001b[0;34m(s, strict)\u001b[0m\n\u001b[1;32m    115\u001b[0m \u001b[38;5;66;03m# If we got here, we ran out of characters to remove\u001b[39;00m\n\u001b[1;32m    116\u001b[0m \u001b[38;5;66;03m# and still couldn't parse the string as JSON, so return the parse error\u001b[39;00m\n\u001b[1;32m    117\u001b[0m \u001b[38;5;66;03m# for the original string.\u001b[39;00m\n\u001b[0;32m--> 118\u001b[0m \u001b[38;5;28;01mreturn\u001b[39;00m \u001b[43mjson\u001b[49m\u001b[38;5;241;43m.\u001b[39;49m\u001b[43mloads\u001b[49m\u001b[43m(\u001b[49m\u001b[43ms\u001b[49m\u001b[43m,\u001b[49m\u001b[43m \u001b[49m\u001b[43mstrict\u001b[49m\u001b[38;5;241;43m=\u001b[39;49m\u001b[43mstrict\u001b[49m\u001b[43m)\u001b[49m\n",
      "File \u001b[0;32m/data02/hyzhang10/miniconda3/envs/xp-nlp/lib/python3.12/json/__init__.py:359\u001b[0m, in \u001b[0;36mloads\u001b[0;34m(s, cls, object_hook, parse_float, parse_int, parse_constant, object_pairs_hook, **kw)\u001b[0m\n\u001b[1;32m    358\u001b[0m     kw[\u001b[38;5;124m'\u001b[39m\u001b[38;5;124mparse_constant\u001b[39m\u001b[38;5;124m'\u001b[39m] \u001b[38;5;241m=\u001b[39m parse_constant\n\u001b[0;32m--> 359\u001b[0m \u001b[38;5;28;01mreturn\u001b[39;00m \u001b[38;5;28;43mcls\u001b[39;49m\u001b[43m(\u001b[49m\u001b[38;5;241;43m*\u001b[39;49m\u001b[38;5;241;43m*\u001b[39;49m\u001b[43mkw\u001b[49m\u001b[43m)\u001b[49m\u001b[38;5;241;43m.\u001b[39;49m\u001b[43mdecode\u001b[49m\u001b[43m(\u001b[49m\u001b[43ms\u001b[49m\u001b[43m)\u001b[49m\n",
      "File \u001b[0;32m/data02/hyzhang10/miniconda3/envs/xp-nlp/lib/python3.12/json/decoder.py:337\u001b[0m, in \u001b[0;36mJSONDecoder.decode\u001b[0;34m(self, s, _w)\u001b[0m\n\u001b[1;32m    333\u001b[0m \u001b[38;5;250m\u001b[39m\u001b[38;5;124;03m\"\"\"Return the Python representation of ``s`` (a ``str`` instance\u001b[39;00m\n\u001b[1;32m    334\u001b[0m \u001b[38;5;124;03mcontaining a JSON document).\u001b[39;00m\n\u001b[1;32m    335\u001b[0m \n\u001b[1;32m    336\u001b[0m \u001b[38;5;124;03m\"\"\"\u001b[39;00m\n\u001b[0;32m--> 337\u001b[0m obj, end \u001b[38;5;241m=\u001b[39m \u001b[38;5;28;43mself\u001b[39;49m\u001b[38;5;241;43m.\u001b[39;49m\u001b[43mraw_decode\u001b[49m\u001b[43m(\u001b[49m\u001b[43ms\u001b[49m\u001b[43m,\u001b[49m\u001b[43m \u001b[49m\u001b[43midx\u001b[49m\u001b[38;5;241;43m=\u001b[39;49m\u001b[43m_w\u001b[49m\u001b[43m(\u001b[49m\u001b[43ms\u001b[49m\u001b[43m,\u001b[49m\u001b[43m \u001b[49m\u001b[38;5;241;43m0\u001b[39;49m\u001b[43m)\u001b[49m\u001b[38;5;241;43m.\u001b[39;49m\u001b[43mend\u001b[49m\u001b[43m(\u001b[49m\u001b[43m)\u001b[49m\u001b[43m)\u001b[49m\n\u001b[1;32m    338\u001b[0m end \u001b[38;5;241m=\u001b[39m _w(s, end)\u001b[38;5;241m.\u001b[39mend()\n",
      "File \u001b[0;32m/data02/hyzhang10/miniconda3/envs/xp-nlp/lib/python3.12/json/decoder.py:353\u001b[0m, in \u001b[0;36mJSONDecoder.raw_decode\u001b[0;34m(self, s, idx)\u001b[0m\n\u001b[1;32m    352\u001b[0m \u001b[38;5;28;01mtry\u001b[39;00m:\n\u001b[0;32m--> 353\u001b[0m     obj, end \u001b[38;5;241m=\u001b[39m \u001b[38;5;28;43mself\u001b[39;49m\u001b[38;5;241;43m.\u001b[39;49m\u001b[43mscan_once\u001b[49m\u001b[43m(\u001b[49m\u001b[43ms\u001b[49m\u001b[43m,\u001b[49m\u001b[43m \u001b[49m\u001b[43midx\u001b[49m\u001b[43m)\u001b[49m\n\u001b[1;32m    354\u001b[0m \u001b[38;5;28;01mexcept\u001b[39;00m \u001b[38;5;167;01mStopIteration\u001b[39;00m \u001b[38;5;28;01mas\u001b[39;00m err:\n",
      "\u001b[0;31mJSONDecodeError\u001b[0m: Expecting property name enclosed in double quotes: line 1 column 2 (char 1)",
      "\nThe above exception was the direct cause of the following exception:\n",
      "\u001b[0;31mOutputParserException\u001b[0m                     Traceback (most recent call last)",
      "Cell \u001b[0;32mIn[34], line 2\u001b[0m\n\u001b[1;32m      1\u001b[0m misformatted \u001b[38;5;241m=\u001b[39m \u001b[38;5;124m\"\u001b[39m\u001b[38;5;124m{\u001b[39m\u001b[38;5;124m'\u001b[39m\u001b[38;5;124mname\u001b[39m\u001b[38;5;124m'\u001b[39m\u001b[38;5;124m: \u001b[39m\u001b[38;5;124m'\u001b[39m\u001b[38;5;124mTom Hanks\u001b[39m\u001b[38;5;124m'\u001b[39m\u001b[38;5;124m, \u001b[39m\u001b[38;5;124m'\u001b[39m\u001b[38;5;124mfilm_names\u001b[39m\u001b[38;5;124m'\u001b[39m\u001b[38;5;124m: [\u001b[39m\u001b[38;5;124m'\u001b[39m\u001b[38;5;124mForrest Gump\u001b[39m\u001b[38;5;124m'\u001b[39m\u001b[38;5;124m]}\u001b[39m\u001b[38;5;124m\"\u001b[39m\n\u001b[0;32m----> 2\u001b[0m \u001b[43mparser\u001b[49m\u001b[38;5;241;43m.\u001b[39;49m\u001b[43mparse\u001b[49m\u001b[43m(\u001b[49m\u001b[43mmisformatted\u001b[49m\u001b[43m)\u001b[49m\n",
      "File \u001b[0;32m/data02/hyzhang10/miniconda3/envs/xp-nlp/lib/python3.12/site-packages/langchain_core/output_parsers/pydantic.py:83\u001b[0m, in \u001b[0;36mPydanticOutputParser.parse\u001b[0;34m(self, text)\u001b[0m\n\u001b[1;32m     74\u001b[0m \u001b[38;5;28;01mdef\u001b[39;00m \u001b[38;5;21mparse\u001b[39m(\u001b[38;5;28mself\u001b[39m, text: \u001b[38;5;28mstr\u001b[39m) \u001b[38;5;241m-\u001b[39m\u001b[38;5;241m>\u001b[39m TBaseModel:\n\u001b[1;32m     75\u001b[0m \u001b[38;5;250m    \u001b[39m\u001b[38;5;124;03m\"\"\"Parse the output of an LLM call to a pydantic object.\u001b[39;00m\n\u001b[1;32m     76\u001b[0m \n\u001b[1;32m     77\u001b[0m \u001b[38;5;124;03m    Args:\u001b[39;00m\n\u001b[0;32m   (...)\u001b[0m\n\u001b[1;32m     81\u001b[0m \u001b[38;5;124;03m        The parsed pydantic object.\u001b[39;00m\n\u001b[1;32m     82\u001b[0m \u001b[38;5;124;03m    \"\"\"\u001b[39;00m\n\u001b[0;32m---> 83\u001b[0m     \u001b[38;5;28;01mreturn\u001b[39;00m \u001b[38;5;28;43msuper\u001b[39;49m\u001b[43m(\u001b[49m\u001b[43m)\u001b[49m\u001b[38;5;241;43m.\u001b[39;49m\u001b[43mparse\u001b[49m\u001b[43m(\u001b[49m\u001b[43mtext\u001b[49m\u001b[43m)\u001b[49m\n",
      "File \u001b[0;32m/data02/hyzhang10/miniconda3/envs/xp-nlp/lib/python3.12/site-packages/langchain_core/output_parsers/json.py:97\u001b[0m, in \u001b[0;36mJsonOutputParser.parse\u001b[0;34m(self, text)\u001b[0m\n\u001b[1;32m     88\u001b[0m \u001b[38;5;28;01mdef\u001b[39;00m \u001b[38;5;21mparse\u001b[39m(\u001b[38;5;28mself\u001b[39m, text: \u001b[38;5;28mstr\u001b[39m) \u001b[38;5;241m-\u001b[39m\u001b[38;5;241m>\u001b[39m Any:\n\u001b[1;32m     89\u001b[0m \u001b[38;5;250m    \u001b[39m\u001b[38;5;124;03m\"\"\"Parse the output of an LLM call to a JSON object.\u001b[39;00m\n\u001b[1;32m     90\u001b[0m \n\u001b[1;32m     91\u001b[0m \u001b[38;5;124;03m    Args:\u001b[39;00m\n\u001b[0;32m   (...)\u001b[0m\n\u001b[1;32m     95\u001b[0m \u001b[38;5;124;03m        The parsed JSON object.\u001b[39;00m\n\u001b[1;32m     96\u001b[0m \u001b[38;5;124;03m    \"\"\"\u001b[39;00m\n\u001b[0;32m---> 97\u001b[0m     \u001b[38;5;28;01mreturn\u001b[39;00m \u001b[38;5;28;43mself\u001b[39;49m\u001b[38;5;241;43m.\u001b[39;49m\u001b[43mparse_result\u001b[49m\u001b[43m(\u001b[49m\u001b[43m[\u001b[49m\u001b[43mGeneration\u001b[49m\u001b[43m(\u001b[49m\u001b[43mtext\u001b[49m\u001b[38;5;241;43m=\u001b[39;49m\u001b[43mtext\u001b[49m\u001b[43m)\u001b[49m\u001b[43m]\u001b[49m\u001b[43m)\u001b[49m\n",
      "File \u001b[0;32m/data02/hyzhang10/miniconda3/envs/xp-nlp/lib/python3.12/site-packages/langchain_core/output_parsers/pydantic.py:72\u001b[0m, in \u001b[0;36mPydanticOutputParser.parse_result\u001b[0;34m(self, result, partial)\u001b[0m\n\u001b[1;32m     70\u001b[0m \u001b[38;5;28;01mif\u001b[39;00m partial:\n\u001b[1;32m     71\u001b[0m     \u001b[38;5;28;01mreturn\u001b[39;00m \u001b[38;5;28;01mNone\u001b[39;00m\n\u001b[0;32m---> 72\u001b[0m \u001b[38;5;28;01mraise\u001b[39;00m e\n",
      "File \u001b[0;32m/data02/hyzhang10/miniconda3/envs/xp-nlp/lib/python3.12/site-packages/langchain_core/output_parsers/pydantic.py:67\u001b[0m, in \u001b[0;36mPydanticOutputParser.parse_result\u001b[0;34m(self, result, partial)\u001b[0m\n\u001b[1;32m     54\u001b[0m \u001b[38;5;250m\u001b[39m\u001b[38;5;124;03m\"\"\"Parse the result of an LLM call to a pydantic object.\u001b[39;00m\n\u001b[1;32m     55\u001b[0m \n\u001b[1;32m     56\u001b[0m \u001b[38;5;124;03mArgs:\u001b[39;00m\n\u001b[0;32m   (...)\u001b[0m\n\u001b[1;32m     64\u001b[0m \u001b[38;5;124;03m    The parsed pydantic object.\u001b[39;00m\n\u001b[1;32m     65\u001b[0m \u001b[38;5;124;03m\"\"\"\u001b[39;00m\n\u001b[1;32m     66\u001b[0m \u001b[38;5;28;01mtry\u001b[39;00m:\n\u001b[0;32m---> 67\u001b[0m     json_object \u001b[38;5;241m=\u001b[39m \u001b[38;5;28;43msuper\u001b[39;49m\u001b[43m(\u001b[49m\u001b[43m)\u001b[49m\u001b[38;5;241;43m.\u001b[39;49m\u001b[43mparse_result\u001b[49m\u001b[43m(\u001b[49m\u001b[43mresult\u001b[49m\u001b[43m)\u001b[49m\n\u001b[1;32m     68\u001b[0m     \u001b[38;5;28;01mreturn\u001b[39;00m \u001b[38;5;28mself\u001b[39m\u001b[38;5;241m.\u001b[39m_parse_obj(json_object)\n\u001b[1;32m     69\u001b[0m \u001b[38;5;28;01mexcept\u001b[39;00m OutputParserException \u001b[38;5;28;01mas\u001b[39;00m e:\n",
      "File \u001b[0;32m/data02/hyzhang10/miniconda3/envs/xp-nlp/lib/python3.12/site-packages/langchain_core/output_parsers/json.py:86\u001b[0m, in \u001b[0;36mJsonOutputParser.parse_result\u001b[0;34m(self, result, partial)\u001b[0m\n\u001b[1;32m     84\u001b[0m \u001b[38;5;28;01mexcept\u001b[39;00m JSONDecodeError \u001b[38;5;28;01mas\u001b[39;00m e:\n\u001b[1;32m     85\u001b[0m     msg \u001b[38;5;241m=\u001b[39m \u001b[38;5;124mf\u001b[39m\u001b[38;5;124m\"\u001b[39m\u001b[38;5;124mInvalid json output: \u001b[39m\u001b[38;5;132;01m{\u001b[39;00mtext\u001b[38;5;132;01m}\u001b[39;00m\u001b[38;5;124m\"\u001b[39m\n\u001b[0;32m---> 86\u001b[0m     \u001b[38;5;28;01mraise\u001b[39;00m OutputParserException(msg, llm_output\u001b[38;5;241m=\u001b[39mtext) \u001b[38;5;28;01mfrom\u001b[39;00m \u001b[38;5;21;01me\u001b[39;00m\n",
      "\u001b[0;31mOutputParserException\u001b[0m: Invalid json output: {'name': 'Tom Hanks', 'film_names': ['Forrest Gump']}\nFor troubleshooting, visit: https://python.langchain.com/docs/troubleshooting/errors/OUTPUT_PARSING_FAILURE "
     ]
    }
   ],
   "source": [
    "misformatted = \"{'name': 'Tom Hanks', 'film_names': ['Forrest Gump']}\"\n",
    "parser.parse(misformatted)"
   ]
  },
  {
   "cell_type": "markdown",
   "metadata": {},
   "source": [
    "## 使用 OutputFixingParser 修正格式错误  \n",
    "### 设置 OutputFixingParser 自动修正错误  \n",
    "- `OutputFixingParser` 包装了现有的 `PydanticOutputParser`，通过向 LLM 发送额外请求，自动修正错误。  \n",
    "- `from_llm()` 方法将 `OutputFixingParser` 与 `ChatOpenAI` 连接，以修正输出中的格式问题。"
   ]
  },
  {
   "cell_type": "code",
   "execution_count": 36,
   "metadata": {},
   "outputs": [],
   "source": [
    "from langchain_openai import ChatOpenAI\n",
    "from langchain_core.prompts import PromptTemplate\n",
    "from langchain.output_parsers import OutputFixingParser\n",
    "\n",
    "llm = ChatOpenAI(\n",
    "\tbase_url='http://localhost:5551/v1',\n",
    "\tapi_key='EMPTY',\n",
    "\tmodel_name='Qwen2.5-7B-Instruct',\n",
    "\ttemperature=0.2,\n",
    ")\n",
    "\n",
    "\n",
    "# Define a custom prompt to provide the fixing instructions\n",
    "fixing_prompt = PromptTemplate(\n",
    "    template=(\n",
    "        \"The following JSON is incorrectly formatted or incomplete: {completion}\\n\"\n",
    "    ),\n",
    "    input_variables=[\n",
    "        \"completion\",\n",
    "    ],\n",
    ")\n",
    "\n",
    "# Use OutputFixingParser to automatically fix the error\n",
    "new_parser = OutputFixingParser.from_llm(\n",
    "    parser=parser, llm=llm, prompt=fixing_prompt\n",
    ")"
   ]
  },
  {
   "cell_type": "markdown",
   "metadata": {},
   "source": [
    "### 使用 OutputFixingParser 解析格式错误的输出  \n",
    "- 使用 `new_parser.parse()` 方法解析格式错误的数据。  \n",
    "- `OutputFixingParser` 将自动修正数据中的错误，并生成一个有效的 `Actor` 对象。"
   ]
  },
  {
   "cell_type": "code",
   "execution_count": 37,
   "metadata": {},
   "outputs": [
    {
     "name": "stdout",
     "output_type": "stream",
     "text": [
      "Parsed actor: name='Tom Hanks' film_names=['Forrest Gump', 'Cast Away', 'Saving Private Ryan']\n"
     ]
    }
   ],
   "source": [
    "# Attempt to parse the misformatted JSON with Exception Handling\n",
    "try:\n",
    "    actor = new_parser.parse(misformatted)\n",
    "    print(\"Parsed actor:\", actor)\n",
    "except Exception as e:\n",
    "    print(\"Error while parsing:\", e)"
   ]
  },
  {
   "cell_type": "markdown",
   "metadata": {},
   "source": [
    "**✅ `OutputFixingParser` 能做什么**\n",
    "- **修复格式错误**（如 JSON 结构错误、单引号替换为双引号等）。\n",
    "- **修正轻微的数据错误**（如字符串拼写错误、数字格式调整等）。\n",
    "- **依赖 LLM 进行数据填充**（如果 LLM 逻辑足够强大，可能会补全缺失字段）。\n",
    "\n",
    "**❌ `OutputFixingParser` 不能自动推理缺失变量的正确值**\n",
    "如果**初始 LLM 输出中缺少某些变量**（如 `age` 字段缺失），但 **修复过程并不会参考原始 Prompt**，那么 `OutputFixingParser` 可能不会自动填充正确的数据，而是直接报错或返回 `None`。\n",
    "\n",
    "**为什么？**\n",
    "1. **`OutputFixingParser` 只是对 LLM 进行二次调用**，它的主要任务是**格式修正**，而不是内容推理。\n",
    "2. **它不会“记住”原始的 Prompt**，所以无法基于上下文填充**缺失的字段**（除非 LLM 自行推理）。\n",
    "3. **LLM 可能不会自动填充缺失字段**，除非你明确告诉它如何修正数据。"
   ]
  },
  {
   "cell_type": "markdown",
   "metadata": {},
   "source": [
    "你可以通过改进 fixing_prompt，让 LLM 在修复过程中不仅修正格式，还填补缺失的变量。"
   ]
  },
  {
   "cell_type": "code",
   "execution_count": null,
   "metadata": {},
   "outputs": [],
   "source": [
    "fixing_prompt = PromptTemplate(\n",
    "    template=(\n",
    "\t\t\"Question:\\n{question}\\n\"\n",
    "        \"Format:\\n {format}\"\n",
    "\t\t\"Answer:\\n{answer}\\n\"\n",
    "        \"The above answer is incorrectly formatted or incomplete.\\n\"\n",
    "\t\t\"Correct any format mistake. \"\n",
    "\t\t\"If any required field is missing, generate a reasonable value according to the question.\\n\"\n",
    "    ),\n",
    "    input_variables=[\"completion\"],\n",
    "\tpartial_variables={\n",
    "\t\t\"format\":parser.get_format_instructions\n",
    "\t}\n",
    ")"
   ]
  }
 ],
 "metadata": {
  "kernelspec": {
   "display_name": "xp-nlp",
   "language": "python",
   "name": "python3"
  },
  "language_info": {
   "codemirror_mode": {
    "name": "ipython",
    "version": 3
   },
   "file_extension": ".py",
   "mimetype": "text/x-python",
   "name": "python",
   "nbconvert_exporter": "python",
   "pygments_lexer": "ipython3",
   "version": "3.12.4"
  }
 },
 "nbformat": 4,
 "nbformat_minor": 2
}
