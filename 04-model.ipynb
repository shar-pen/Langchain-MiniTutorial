{
 "cells": [
  {
   "cell_type": "markdown",
   "metadata": {},
   "source": [
    "# VLLM 部署本地大模型\n",
    "\n",
    "```Bash\n",
    "export CUDA_VISIBLE_DEVICES=5\n",
    "\n",
    "modelpath=../DataCollection/officials/Qwen2.5-7B-Instruct\n",
    "modelname=Qwen2.5-7B-Instruct\n",
    "\n",
    "nohup python -m vllm.entrypoints.openai.api_server \\\n",
    "    --model $modelpath \\\n",
    "    --served-model-name $modelname \\\n",
    "    --port 5551 \\\n",
    "    --gpu-memory-utilization 0.4 \\\n",
    "    --dtype=half \\\n",
    "    > output.log 2>&1 &\n",
    "\n",
    "```"
   ]
  },
  {
   "cell_type": "markdown",
   "metadata": {},
   "source": [
    "### **基本模型选项**  \n",
    "\n",
    "以下是 API 的基本选项：  \n",
    "\n",
    "- **`model_name`** : `str`  \n",
    "  该选项允许您选择适用的模型，也可以使用 `model` 作为别名。  \n",
    "\n",
    "- **`temperature`** : `float` = 0.7  \n",
    "  该选项用于设置采样温度（`temperature`）。取值范围为 **0 到 2**，较高的值（如 `0.8`）会使输出更加随机，而较低的值（如 `0.2`）会使输出更具**集中性和确定性**。  \n",
    "\n",
    "- **`max_tokens`** : `int` | `None` = `None`  \n",
    "  指定聊天补全（chat completion）中要生成的**最大 token 数**。该选项控制模型在一次调用中可以生成的文本长度。"
   ]
  },
  {
   "cell_type": "code",
   "execution_count": 2,
   "metadata": {},
   "outputs": [
    {
     "name": "stdout",
     "output_type": "stream",
     "text": [
      "Sure! Here's a light-hearted joke about computer science:\n",
      "\n",
      "Why did the computer go to the doctor?\n",
      "\n",
      "Because it had a virus and needed to get \"anti-virus\"!"
     ]
    }
   ],
   "source": [
    "from langchain_openai import ChatOpenAI\n",
    "\n",
    "model = ChatOpenAI(\n",
    "\tbase_url='http://localhost:5551/v1',\n",
    "\tapi_key='EMPTY',\n",
    "\tmodel_name='Qwen2.5-7B-Instruct',\n",
    "\ttemperature=0.2,\n",
    ")\n",
    "\n",
    "query = \"Tell me one joke about Computer Science\"\n",
    "\n",
    "# Stream the response instead of invoking it directly\n",
    "response = model.stream(query)\n",
    "\n",
    "# Print the streamed response token by token\n",
    "for token in response:\n",
    "    print(token.content, end=\"\", flush=True)"
   ]
  }
 ],
 "metadata": {
  "kernelspec": {
   "display_name": "xp-nlp",
   "language": "python",
   "name": "python3"
  },
  "language_info": {
   "codemirror_mode": {
    "name": "ipython",
    "version": 3
   },
   "file_extension": ".py",
   "mimetype": "text/x-python",
   "name": "python",
   "nbconvert_exporter": "python",
   "pygments_lexer": "ipython3",
   "version": "3.12.4"
  }
 },
 "nbformat": 4,
 "nbformat_minor": 2
}
